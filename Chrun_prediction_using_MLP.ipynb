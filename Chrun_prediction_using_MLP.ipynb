{
  "metadata": {
    "kernelspec": {
      "language": "python",
      "display_name": "Python 3",
      "name": "python3"
    },
    "language_info": {
      "name": "python",
      "version": "3.10.13",
      "mimetype": "text/x-python",
      "codemirror_mode": {
        "name": "ipython",
        "version": 3
      },
      "pygments_lexer": "ipython3",
      "nbconvert_exporter": "python",
      "file_extension": ".py"
    },
    "kaggle": {
      "accelerator": "none",
      "dataSources": [
        {
          "sourceId": 18858,
          "sourceType": "datasetVersion",
          "datasetId": 13996
        }
      ],
      "dockerImageVersionId": 30746,
      "isInternetEnabled": true,
      "language": "python",
      "sourceType": "notebook",
      "isGpuEnabled": false
    },
    "colab": {
      "provenance": []
    }
  },
  "nbformat_minor": 0,
  "nbformat": 4,
  "cells": [
    {
      "cell_type": "markdown",
      "source": [
        "### CHURN PREDICTION USING  multi-layer perceptron (MLP) model"
      ],
      "metadata": {
        "id": "EnpxZ8OKL0vc"
      }
    },
    {
      "cell_type": "code",
      "source": [
        "import pandas as pd\n",
        "data = pd.read_csv(\"/content/WA_Fn-UseC_-Telco-Customer-Churn.csv\")"
      ],
      "metadata": {
        "execution": {
          "iopub.status.busy": "2024-07-20T08:58:11.162239Z",
          "iopub.execute_input": "2024-07-20T08:58:11.162652Z",
          "iopub.status.idle": "2024-07-20T08:58:11.233750Z",
          "shell.execute_reply.started": "2024-07-20T08:58:11.162617Z",
          "shell.execute_reply": "2024-07-20T08:58:11.232477Z"
        },
        "trusted": true,
        "id": "kNxklNIzL0ve"
      },
      "execution_count": 2,
      "outputs": []
    },
    {
      "cell_type": "code",
      "source": [
        "data.head()"
      ],
      "metadata": {
        "execution": {
          "iopub.status.busy": "2024-07-20T08:58:18.064564Z",
          "iopub.execute_input": "2024-07-20T08:58:18.064977Z",
          "iopub.status.idle": "2024-07-20T08:58:18.112658Z",
          "shell.execute_reply.started": "2024-07-20T08:58:18.064943Z",
          "shell.execute_reply": "2024-07-20T08:58:18.111276Z"
        },
        "trusted": true,
        "colab": {
          "base_uri": "https://localhost:8080/",
          "height": 342
        },
        "id": "zj-mHhMaL0vf",
        "outputId": "9a1cbb6f-d4b0-4880-95aa-8d40b90a2cd2"
      },
      "execution_count": 3,
      "outputs": [
        {
          "output_type": "execute_result",
          "data": {
            "text/plain": [
              "   customerID  gender  SeniorCitizen Partner Dependents  tenure PhoneService  \\\n",
              "0  7590-VHVEG  Female              0     Yes         No       1           No   \n",
              "1  5575-GNVDE    Male              0      No         No      34          Yes   \n",
              "2  3668-QPYBK    Male              0      No         No       2          Yes   \n",
              "3  7795-CFOCW    Male              0      No         No      45           No   \n",
              "4  9237-HQITU  Female              0      No         No       2          Yes   \n",
              "\n",
              "      MultipleLines InternetService OnlineSecurity  ... DeviceProtection  \\\n",
              "0  No phone service             DSL             No  ...               No   \n",
              "1                No             DSL            Yes  ...              Yes   \n",
              "2                No             DSL            Yes  ...               No   \n",
              "3  No phone service             DSL            Yes  ...              Yes   \n",
              "4                No     Fiber optic             No  ...               No   \n",
              "\n",
              "  TechSupport StreamingTV StreamingMovies        Contract PaperlessBilling  \\\n",
              "0          No          No              No  Month-to-month              Yes   \n",
              "1          No          No              No        One year               No   \n",
              "2          No          No              No  Month-to-month              Yes   \n",
              "3         Yes          No              No        One year               No   \n",
              "4          No          No              No  Month-to-month              Yes   \n",
              "\n",
              "               PaymentMethod MonthlyCharges  TotalCharges Churn  \n",
              "0           Electronic check          29.85         29.85    No  \n",
              "1               Mailed check          56.95        1889.5    No  \n",
              "2               Mailed check          53.85        108.15   Yes  \n",
              "3  Bank transfer (automatic)          42.30       1840.75    No  \n",
              "4           Electronic check          70.70        151.65   Yes  \n",
              "\n",
              "[5 rows x 21 columns]"
            ],
            "text/html": [
              "\n",
              "  <div id=\"df-8a220d5b-a614-4058-ac11-ec672fd2665c\" class=\"colab-df-container\">\n",
              "    <div>\n",
              "<style scoped>\n",
              "    .dataframe tbody tr th:only-of-type {\n",
              "        vertical-align: middle;\n",
              "    }\n",
              "\n",
              "    .dataframe tbody tr th {\n",
              "        vertical-align: top;\n",
              "    }\n",
              "\n",
              "    .dataframe thead th {\n",
              "        text-align: right;\n",
              "    }\n",
              "</style>\n",
              "<table border=\"1\" class=\"dataframe\">\n",
              "  <thead>\n",
              "    <tr style=\"text-align: right;\">\n",
              "      <th></th>\n",
              "      <th>customerID</th>\n",
              "      <th>gender</th>\n",
              "      <th>SeniorCitizen</th>\n",
              "      <th>Partner</th>\n",
              "      <th>Dependents</th>\n",
              "      <th>tenure</th>\n",
              "      <th>PhoneService</th>\n",
              "      <th>MultipleLines</th>\n",
              "      <th>InternetService</th>\n",
              "      <th>OnlineSecurity</th>\n",
              "      <th>...</th>\n",
              "      <th>DeviceProtection</th>\n",
              "      <th>TechSupport</th>\n",
              "      <th>StreamingTV</th>\n",
              "      <th>StreamingMovies</th>\n",
              "      <th>Contract</th>\n",
              "      <th>PaperlessBilling</th>\n",
              "      <th>PaymentMethod</th>\n",
              "      <th>MonthlyCharges</th>\n",
              "      <th>TotalCharges</th>\n",
              "      <th>Churn</th>\n",
              "    </tr>\n",
              "  </thead>\n",
              "  <tbody>\n",
              "    <tr>\n",
              "      <th>0</th>\n",
              "      <td>7590-VHVEG</td>\n",
              "      <td>Female</td>\n",
              "      <td>0</td>\n",
              "      <td>Yes</td>\n",
              "      <td>No</td>\n",
              "      <td>1</td>\n",
              "      <td>No</td>\n",
              "      <td>No phone service</td>\n",
              "      <td>DSL</td>\n",
              "      <td>No</td>\n",
              "      <td>...</td>\n",
              "      <td>No</td>\n",
              "      <td>No</td>\n",
              "      <td>No</td>\n",
              "      <td>No</td>\n",
              "      <td>Month-to-month</td>\n",
              "      <td>Yes</td>\n",
              "      <td>Electronic check</td>\n",
              "      <td>29.85</td>\n",
              "      <td>29.85</td>\n",
              "      <td>No</td>\n",
              "    </tr>\n",
              "    <tr>\n",
              "      <th>1</th>\n",
              "      <td>5575-GNVDE</td>\n",
              "      <td>Male</td>\n",
              "      <td>0</td>\n",
              "      <td>No</td>\n",
              "      <td>No</td>\n",
              "      <td>34</td>\n",
              "      <td>Yes</td>\n",
              "      <td>No</td>\n",
              "      <td>DSL</td>\n",
              "      <td>Yes</td>\n",
              "      <td>...</td>\n",
              "      <td>Yes</td>\n",
              "      <td>No</td>\n",
              "      <td>No</td>\n",
              "      <td>No</td>\n",
              "      <td>One year</td>\n",
              "      <td>No</td>\n",
              "      <td>Mailed check</td>\n",
              "      <td>56.95</td>\n",
              "      <td>1889.5</td>\n",
              "      <td>No</td>\n",
              "    </tr>\n",
              "    <tr>\n",
              "      <th>2</th>\n",
              "      <td>3668-QPYBK</td>\n",
              "      <td>Male</td>\n",
              "      <td>0</td>\n",
              "      <td>No</td>\n",
              "      <td>No</td>\n",
              "      <td>2</td>\n",
              "      <td>Yes</td>\n",
              "      <td>No</td>\n",
              "      <td>DSL</td>\n",
              "      <td>Yes</td>\n",
              "      <td>...</td>\n",
              "      <td>No</td>\n",
              "      <td>No</td>\n",
              "      <td>No</td>\n",
              "      <td>No</td>\n",
              "      <td>Month-to-month</td>\n",
              "      <td>Yes</td>\n",
              "      <td>Mailed check</td>\n",
              "      <td>53.85</td>\n",
              "      <td>108.15</td>\n",
              "      <td>Yes</td>\n",
              "    </tr>\n",
              "    <tr>\n",
              "      <th>3</th>\n",
              "      <td>7795-CFOCW</td>\n",
              "      <td>Male</td>\n",
              "      <td>0</td>\n",
              "      <td>No</td>\n",
              "      <td>No</td>\n",
              "      <td>45</td>\n",
              "      <td>No</td>\n",
              "      <td>No phone service</td>\n",
              "      <td>DSL</td>\n",
              "      <td>Yes</td>\n",
              "      <td>...</td>\n",
              "      <td>Yes</td>\n",
              "      <td>Yes</td>\n",
              "      <td>No</td>\n",
              "      <td>No</td>\n",
              "      <td>One year</td>\n",
              "      <td>No</td>\n",
              "      <td>Bank transfer (automatic)</td>\n",
              "      <td>42.30</td>\n",
              "      <td>1840.75</td>\n",
              "      <td>No</td>\n",
              "    </tr>\n",
              "    <tr>\n",
              "      <th>4</th>\n",
              "      <td>9237-HQITU</td>\n",
              "      <td>Female</td>\n",
              "      <td>0</td>\n",
              "      <td>No</td>\n",
              "      <td>No</td>\n",
              "      <td>2</td>\n",
              "      <td>Yes</td>\n",
              "      <td>No</td>\n",
              "      <td>Fiber optic</td>\n",
              "      <td>No</td>\n",
              "      <td>...</td>\n",
              "      <td>No</td>\n",
              "      <td>No</td>\n",
              "      <td>No</td>\n",
              "      <td>No</td>\n",
              "      <td>Month-to-month</td>\n",
              "      <td>Yes</td>\n",
              "      <td>Electronic check</td>\n",
              "      <td>70.70</td>\n",
              "      <td>151.65</td>\n",
              "      <td>Yes</td>\n",
              "    </tr>\n",
              "  </tbody>\n",
              "</table>\n",
              "<p>5 rows × 21 columns</p>\n",
              "</div>\n",
              "    <div class=\"colab-df-buttons\">\n",
              "\n",
              "  <div class=\"colab-df-container\">\n",
              "    <button class=\"colab-df-convert\" onclick=\"convertToInteractive('df-8a220d5b-a614-4058-ac11-ec672fd2665c')\"\n",
              "            title=\"Convert this dataframe to an interactive table.\"\n",
              "            style=\"display:none;\">\n",
              "\n",
              "  <svg xmlns=\"http://www.w3.org/2000/svg\" height=\"24px\" viewBox=\"0 -960 960 960\">\n",
              "    <path d=\"M120-120v-720h720v720H120Zm60-500h600v-160H180v160Zm220 220h160v-160H400v160Zm0 220h160v-160H400v160ZM180-400h160v-160H180v160Zm440 0h160v-160H620v160ZM180-180h160v-160H180v160Zm440 0h160v-160H620v160Z\"/>\n",
              "  </svg>\n",
              "    </button>\n",
              "\n",
              "  <style>\n",
              "    .colab-df-container {\n",
              "      display:flex;\n",
              "      gap: 12px;\n",
              "    }\n",
              "\n",
              "    .colab-df-convert {\n",
              "      background-color: #E8F0FE;\n",
              "      border: none;\n",
              "      border-radius: 50%;\n",
              "      cursor: pointer;\n",
              "      display: none;\n",
              "      fill: #1967D2;\n",
              "      height: 32px;\n",
              "      padding: 0 0 0 0;\n",
              "      width: 32px;\n",
              "    }\n",
              "\n",
              "    .colab-df-convert:hover {\n",
              "      background-color: #E2EBFA;\n",
              "      box-shadow: 0px 1px 2px rgba(60, 64, 67, 0.3), 0px 1px 3px 1px rgba(60, 64, 67, 0.15);\n",
              "      fill: #174EA6;\n",
              "    }\n",
              "\n",
              "    .colab-df-buttons div {\n",
              "      margin-bottom: 4px;\n",
              "    }\n",
              "\n",
              "    [theme=dark] .colab-df-convert {\n",
              "      background-color: #3B4455;\n",
              "      fill: #D2E3FC;\n",
              "    }\n",
              "\n",
              "    [theme=dark] .colab-df-convert:hover {\n",
              "      background-color: #434B5C;\n",
              "      box-shadow: 0px 1px 3px 1px rgba(0, 0, 0, 0.15);\n",
              "      filter: drop-shadow(0px 1px 2px rgba(0, 0, 0, 0.3));\n",
              "      fill: #FFFFFF;\n",
              "    }\n",
              "  </style>\n",
              "\n",
              "    <script>\n",
              "      const buttonEl =\n",
              "        document.querySelector('#df-8a220d5b-a614-4058-ac11-ec672fd2665c button.colab-df-convert');\n",
              "      buttonEl.style.display =\n",
              "        google.colab.kernel.accessAllowed ? 'block' : 'none';\n",
              "\n",
              "      async function convertToInteractive(key) {\n",
              "        const element = document.querySelector('#df-8a220d5b-a614-4058-ac11-ec672fd2665c');\n",
              "        const dataTable =\n",
              "          await google.colab.kernel.invokeFunction('convertToInteractive',\n",
              "                                                    [key], {});\n",
              "        if (!dataTable) return;\n",
              "\n",
              "        const docLinkHtml = 'Like what you see? Visit the ' +\n",
              "          '<a target=\"_blank\" href=https://colab.research.google.com/notebooks/data_table.ipynb>data table notebook</a>'\n",
              "          + ' to learn more about interactive tables.';\n",
              "        element.innerHTML = '';\n",
              "        dataTable['output_type'] = 'display_data';\n",
              "        await google.colab.output.renderOutput(dataTable, element);\n",
              "        const docLink = document.createElement('div');\n",
              "        docLink.innerHTML = docLinkHtml;\n",
              "        element.appendChild(docLink);\n",
              "      }\n",
              "    </script>\n",
              "  </div>\n",
              "\n",
              "\n",
              "<div id=\"df-a158900c-f30e-46ab-9c22-6517246f58d8\">\n",
              "  <button class=\"colab-df-quickchart\" onclick=\"quickchart('df-a158900c-f30e-46ab-9c22-6517246f58d8')\"\n",
              "            title=\"Suggest charts\"\n",
              "            style=\"display:none;\">\n",
              "\n",
              "<svg xmlns=\"http://www.w3.org/2000/svg\" height=\"24px\"viewBox=\"0 0 24 24\"\n",
              "     width=\"24px\">\n",
              "    <g>\n",
              "        <path d=\"M19 3H5c-1.1 0-2 .9-2 2v14c0 1.1.9 2 2 2h14c1.1 0 2-.9 2-2V5c0-1.1-.9-2-2-2zM9 17H7v-7h2v7zm4 0h-2V7h2v10zm4 0h-2v-4h2v4z\"/>\n",
              "    </g>\n",
              "</svg>\n",
              "  </button>\n",
              "\n",
              "<style>\n",
              "  .colab-df-quickchart {\n",
              "      --bg-color: #E8F0FE;\n",
              "      --fill-color: #1967D2;\n",
              "      --hover-bg-color: #E2EBFA;\n",
              "      --hover-fill-color: #174EA6;\n",
              "      --disabled-fill-color: #AAA;\n",
              "      --disabled-bg-color: #DDD;\n",
              "  }\n",
              "\n",
              "  [theme=dark] .colab-df-quickchart {\n",
              "      --bg-color: #3B4455;\n",
              "      --fill-color: #D2E3FC;\n",
              "      --hover-bg-color: #434B5C;\n",
              "      --hover-fill-color: #FFFFFF;\n",
              "      --disabled-bg-color: #3B4455;\n",
              "      --disabled-fill-color: #666;\n",
              "  }\n",
              "\n",
              "  .colab-df-quickchart {\n",
              "    background-color: var(--bg-color);\n",
              "    border: none;\n",
              "    border-radius: 50%;\n",
              "    cursor: pointer;\n",
              "    display: none;\n",
              "    fill: var(--fill-color);\n",
              "    height: 32px;\n",
              "    padding: 0;\n",
              "    width: 32px;\n",
              "  }\n",
              "\n",
              "  .colab-df-quickchart:hover {\n",
              "    background-color: var(--hover-bg-color);\n",
              "    box-shadow: 0 1px 2px rgba(60, 64, 67, 0.3), 0 1px 3px 1px rgba(60, 64, 67, 0.15);\n",
              "    fill: var(--button-hover-fill-color);\n",
              "  }\n",
              "\n",
              "  .colab-df-quickchart-complete:disabled,\n",
              "  .colab-df-quickchart-complete:disabled:hover {\n",
              "    background-color: var(--disabled-bg-color);\n",
              "    fill: var(--disabled-fill-color);\n",
              "    box-shadow: none;\n",
              "  }\n",
              "\n",
              "  .colab-df-spinner {\n",
              "    border: 2px solid var(--fill-color);\n",
              "    border-color: transparent;\n",
              "    border-bottom-color: var(--fill-color);\n",
              "    animation:\n",
              "      spin 1s steps(1) infinite;\n",
              "  }\n",
              "\n",
              "  @keyframes spin {\n",
              "    0% {\n",
              "      border-color: transparent;\n",
              "      border-bottom-color: var(--fill-color);\n",
              "      border-left-color: var(--fill-color);\n",
              "    }\n",
              "    20% {\n",
              "      border-color: transparent;\n",
              "      border-left-color: var(--fill-color);\n",
              "      border-top-color: var(--fill-color);\n",
              "    }\n",
              "    30% {\n",
              "      border-color: transparent;\n",
              "      border-left-color: var(--fill-color);\n",
              "      border-top-color: var(--fill-color);\n",
              "      border-right-color: var(--fill-color);\n",
              "    }\n",
              "    40% {\n",
              "      border-color: transparent;\n",
              "      border-right-color: var(--fill-color);\n",
              "      border-top-color: var(--fill-color);\n",
              "    }\n",
              "    60% {\n",
              "      border-color: transparent;\n",
              "      border-right-color: var(--fill-color);\n",
              "    }\n",
              "    80% {\n",
              "      border-color: transparent;\n",
              "      border-right-color: var(--fill-color);\n",
              "      border-bottom-color: var(--fill-color);\n",
              "    }\n",
              "    90% {\n",
              "      border-color: transparent;\n",
              "      border-bottom-color: var(--fill-color);\n",
              "    }\n",
              "  }\n",
              "</style>\n",
              "\n",
              "  <script>\n",
              "    async function quickchart(key) {\n",
              "      const quickchartButtonEl =\n",
              "        document.querySelector('#' + key + ' button');\n",
              "      quickchartButtonEl.disabled = true;  // To prevent multiple clicks.\n",
              "      quickchartButtonEl.classList.add('colab-df-spinner');\n",
              "      try {\n",
              "        const charts = await google.colab.kernel.invokeFunction(\n",
              "            'suggestCharts', [key], {});\n",
              "      } catch (error) {\n",
              "        console.error('Error during call to suggestCharts:', error);\n",
              "      }\n",
              "      quickchartButtonEl.classList.remove('colab-df-spinner');\n",
              "      quickchartButtonEl.classList.add('colab-df-quickchart-complete');\n",
              "    }\n",
              "    (() => {\n",
              "      let quickchartButtonEl =\n",
              "        document.querySelector('#df-a158900c-f30e-46ab-9c22-6517246f58d8 button');\n",
              "      quickchartButtonEl.style.display =\n",
              "        google.colab.kernel.accessAllowed ? 'block' : 'none';\n",
              "    })();\n",
              "  </script>\n",
              "</div>\n",
              "\n",
              "    </div>\n",
              "  </div>\n"
            ],
            "application/vnd.google.colaboratory.intrinsic+json": {
              "type": "dataframe",
              "variable_name": "data"
            }
          },
          "metadata": {},
          "execution_count": 3
        }
      ]
    },
    {
      "cell_type": "markdown",
      "source": [
        "### EDA"
      ],
      "metadata": {
        "id": "llCZEKxRL0vf"
      }
    },
    {
      "cell_type": "code",
      "source": [
        "data.describe()"
      ],
      "metadata": {
        "execution": {
          "iopub.status.busy": "2024-07-20T08:59:31.701150Z",
          "iopub.execute_input": "2024-07-20T08:59:31.701557Z",
          "iopub.status.idle": "2024-07-20T08:59:31.734972Z",
          "shell.execute_reply.started": "2024-07-20T08:59:31.701523Z",
          "shell.execute_reply": "2024-07-20T08:59:31.733663Z"
        },
        "trusted": true,
        "colab": {
          "base_uri": "https://localhost:8080/",
          "height": 300
        },
        "id": "OwjnlM9aL0vg",
        "outputId": "c0351554-cbad-412d-c38a-3bcbc6e995f9"
      },
      "execution_count": 4,
      "outputs": [
        {
          "output_type": "execute_result",
          "data": {
            "text/plain": [
              "       SeniorCitizen       tenure  MonthlyCharges\n",
              "count    7043.000000  7043.000000     7043.000000\n",
              "mean        0.162147    32.371149       64.761692\n",
              "std         0.368612    24.559481       30.090047\n",
              "min         0.000000     0.000000       18.250000\n",
              "25%         0.000000     9.000000       35.500000\n",
              "50%         0.000000    29.000000       70.350000\n",
              "75%         0.000000    55.000000       89.850000\n",
              "max         1.000000    72.000000      118.750000"
            ],
            "text/html": [
              "\n",
              "  <div id=\"df-9dd857fa-ca98-475e-931b-7b1fb5908a51\" class=\"colab-df-container\">\n",
              "    <div>\n",
              "<style scoped>\n",
              "    .dataframe tbody tr th:only-of-type {\n",
              "        vertical-align: middle;\n",
              "    }\n",
              "\n",
              "    .dataframe tbody tr th {\n",
              "        vertical-align: top;\n",
              "    }\n",
              "\n",
              "    .dataframe thead th {\n",
              "        text-align: right;\n",
              "    }\n",
              "</style>\n",
              "<table border=\"1\" class=\"dataframe\">\n",
              "  <thead>\n",
              "    <tr style=\"text-align: right;\">\n",
              "      <th></th>\n",
              "      <th>SeniorCitizen</th>\n",
              "      <th>tenure</th>\n",
              "      <th>MonthlyCharges</th>\n",
              "    </tr>\n",
              "  </thead>\n",
              "  <tbody>\n",
              "    <tr>\n",
              "      <th>count</th>\n",
              "      <td>7043.000000</td>\n",
              "      <td>7043.000000</td>\n",
              "      <td>7043.000000</td>\n",
              "    </tr>\n",
              "    <tr>\n",
              "      <th>mean</th>\n",
              "      <td>0.162147</td>\n",
              "      <td>32.371149</td>\n",
              "      <td>64.761692</td>\n",
              "    </tr>\n",
              "    <tr>\n",
              "      <th>std</th>\n",
              "      <td>0.368612</td>\n",
              "      <td>24.559481</td>\n",
              "      <td>30.090047</td>\n",
              "    </tr>\n",
              "    <tr>\n",
              "      <th>min</th>\n",
              "      <td>0.000000</td>\n",
              "      <td>0.000000</td>\n",
              "      <td>18.250000</td>\n",
              "    </tr>\n",
              "    <tr>\n",
              "      <th>25%</th>\n",
              "      <td>0.000000</td>\n",
              "      <td>9.000000</td>\n",
              "      <td>35.500000</td>\n",
              "    </tr>\n",
              "    <tr>\n",
              "      <th>50%</th>\n",
              "      <td>0.000000</td>\n",
              "      <td>29.000000</td>\n",
              "      <td>70.350000</td>\n",
              "    </tr>\n",
              "    <tr>\n",
              "      <th>75%</th>\n",
              "      <td>0.000000</td>\n",
              "      <td>55.000000</td>\n",
              "      <td>89.850000</td>\n",
              "    </tr>\n",
              "    <tr>\n",
              "      <th>max</th>\n",
              "      <td>1.000000</td>\n",
              "      <td>72.000000</td>\n",
              "      <td>118.750000</td>\n",
              "    </tr>\n",
              "  </tbody>\n",
              "</table>\n",
              "</div>\n",
              "    <div class=\"colab-df-buttons\">\n",
              "\n",
              "  <div class=\"colab-df-container\">\n",
              "    <button class=\"colab-df-convert\" onclick=\"convertToInteractive('df-9dd857fa-ca98-475e-931b-7b1fb5908a51')\"\n",
              "            title=\"Convert this dataframe to an interactive table.\"\n",
              "            style=\"display:none;\">\n",
              "\n",
              "  <svg xmlns=\"http://www.w3.org/2000/svg\" height=\"24px\" viewBox=\"0 -960 960 960\">\n",
              "    <path d=\"M120-120v-720h720v720H120Zm60-500h600v-160H180v160Zm220 220h160v-160H400v160Zm0 220h160v-160H400v160ZM180-400h160v-160H180v160Zm440 0h160v-160H620v160ZM180-180h160v-160H180v160Zm440 0h160v-160H620v160Z\"/>\n",
              "  </svg>\n",
              "    </button>\n",
              "\n",
              "  <style>\n",
              "    .colab-df-container {\n",
              "      display:flex;\n",
              "      gap: 12px;\n",
              "    }\n",
              "\n",
              "    .colab-df-convert {\n",
              "      background-color: #E8F0FE;\n",
              "      border: none;\n",
              "      border-radius: 50%;\n",
              "      cursor: pointer;\n",
              "      display: none;\n",
              "      fill: #1967D2;\n",
              "      height: 32px;\n",
              "      padding: 0 0 0 0;\n",
              "      width: 32px;\n",
              "    }\n",
              "\n",
              "    .colab-df-convert:hover {\n",
              "      background-color: #E2EBFA;\n",
              "      box-shadow: 0px 1px 2px rgba(60, 64, 67, 0.3), 0px 1px 3px 1px rgba(60, 64, 67, 0.15);\n",
              "      fill: #174EA6;\n",
              "    }\n",
              "\n",
              "    .colab-df-buttons div {\n",
              "      margin-bottom: 4px;\n",
              "    }\n",
              "\n",
              "    [theme=dark] .colab-df-convert {\n",
              "      background-color: #3B4455;\n",
              "      fill: #D2E3FC;\n",
              "    }\n",
              "\n",
              "    [theme=dark] .colab-df-convert:hover {\n",
              "      background-color: #434B5C;\n",
              "      box-shadow: 0px 1px 3px 1px rgba(0, 0, 0, 0.15);\n",
              "      filter: drop-shadow(0px 1px 2px rgba(0, 0, 0, 0.3));\n",
              "      fill: #FFFFFF;\n",
              "    }\n",
              "  </style>\n",
              "\n",
              "    <script>\n",
              "      const buttonEl =\n",
              "        document.querySelector('#df-9dd857fa-ca98-475e-931b-7b1fb5908a51 button.colab-df-convert');\n",
              "      buttonEl.style.display =\n",
              "        google.colab.kernel.accessAllowed ? 'block' : 'none';\n",
              "\n",
              "      async function convertToInteractive(key) {\n",
              "        const element = document.querySelector('#df-9dd857fa-ca98-475e-931b-7b1fb5908a51');\n",
              "        const dataTable =\n",
              "          await google.colab.kernel.invokeFunction('convertToInteractive',\n",
              "                                                    [key], {});\n",
              "        if (!dataTable) return;\n",
              "\n",
              "        const docLinkHtml = 'Like what you see? Visit the ' +\n",
              "          '<a target=\"_blank\" href=https://colab.research.google.com/notebooks/data_table.ipynb>data table notebook</a>'\n",
              "          + ' to learn more about interactive tables.';\n",
              "        element.innerHTML = '';\n",
              "        dataTable['output_type'] = 'display_data';\n",
              "        await google.colab.output.renderOutput(dataTable, element);\n",
              "        const docLink = document.createElement('div');\n",
              "        docLink.innerHTML = docLinkHtml;\n",
              "        element.appendChild(docLink);\n",
              "      }\n",
              "    </script>\n",
              "  </div>\n",
              "\n",
              "\n",
              "<div id=\"df-034692f6-74a3-4532-9da8-37cac3a4ca4e\">\n",
              "  <button class=\"colab-df-quickchart\" onclick=\"quickchart('df-034692f6-74a3-4532-9da8-37cac3a4ca4e')\"\n",
              "            title=\"Suggest charts\"\n",
              "            style=\"display:none;\">\n",
              "\n",
              "<svg xmlns=\"http://www.w3.org/2000/svg\" height=\"24px\"viewBox=\"0 0 24 24\"\n",
              "     width=\"24px\">\n",
              "    <g>\n",
              "        <path d=\"M19 3H5c-1.1 0-2 .9-2 2v14c0 1.1.9 2 2 2h14c1.1 0 2-.9 2-2V5c0-1.1-.9-2-2-2zM9 17H7v-7h2v7zm4 0h-2V7h2v10zm4 0h-2v-4h2v4z\"/>\n",
              "    </g>\n",
              "</svg>\n",
              "  </button>\n",
              "\n",
              "<style>\n",
              "  .colab-df-quickchart {\n",
              "      --bg-color: #E8F0FE;\n",
              "      --fill-color: #1967D2;\n",
              "      --hover-bg-color: #E2EBFA;\n",
              "      --hover-fill-color: #174EA6;\n",
              "      --disabled-fill-color: #AAA;\n",
              "      --disabled-bg-color: #DDD;\n",
              "  }\n",
              "\n",
              "  [theme=dark] .colab-df-quickchart {\n",
              "      --bg-color: #3B4455;\n",
              "      --fill-color: #D2E3FC;\n",
              "      --hover-bg-color: #434B5C;\n",
              "      --hover-fill-color: #FFFFFF;\n",
              "      --disabled-bg-color: #3B4455;\n",
              "      --disabled-fill-color: #666;\n",
              "  }\n",
              "\n",
              "  .colab-df-quickchart {\n",
              "    background-color: var(--bg-color);\n",
              "    border: none;\n",
              "    border-radius: 50%;\n",
              "    cursor: pointer;\n",
              "    display: none;\n",
              "    fill: var(--fill-color);\n",
              "    height: 32px;\n",
              "    padding: 0;\n",
              "    width: 32px;\n",
              "  }\n",
              "\n",
              "  .colab-df-quickchart:hover {\n",
              "    background-color: var(--hover-bg-color);\n",
              "    box-shadow: 0 1px 2px rgba(60, 64, 67, 0.3), 0 1px 3px 1px rgba(60, 64, 67, 0.15);\n",
              "    fill: var(--button-hover-fill-color);\n",
              "  }\n",
              "\n",
              "  .colab-df-quickchart-complete:disabled,\n",
              "  .colab-df-quickchart-complete:disabled:hover {\n",
              "    background-color: var(--disabled-bg-color);\n",
              "    fill: var(--disabled-fill-color);\n",
              "    box-shadow: none;\n",
              "  }\n",
              "\n",
              "  .colab-df-spinner {\n",
              "    border: 2px solid var(--fill-color);\n",
              "    border-color: transparent;\n",
              "    border-bottom-color: var(--fill-color);\n",
              "    animation:\n",
              "      spin 1s steps(1) infinite;\n",
              "  }\n",
              "\n",
              "  @keyframes spin {\n",
              "    0% {\n",
              "      border-color: transparent;\n",
              "      border-bottom-color: var(--fill-color);\n",
              "      border-left-color: var(--fill-color);\n",
              "    }\n",
              "    20% {\n",
              "      border-color: transparent;\n",
              "      border-left-color: var(--fill-color);\n",
              "      border-top-color: var(--fill-color);\n",
              "    }\n",
              "    30% {\n",
              "      border-color: transparent;\n",
              "      border-left-color: var(--fill-color);\n",
              "      border-top-color: var(--fill-color);\n",
              "      border-right-color: var(--fill-color);\n",
              "    }\n",
              "    40% {\n",
              "      border-color: transparent;\n",
              "      border-right-color: var(--fill-color);\n",
              "      border-top-color: var(--fill-color);\n",
              "    }\n",
              "    60% {\n",
              "      border-color: transparent;\n",
              "      border-right-color: var(--fill-color);\n",
              "    }\n",
              "    80% {\n",
              "      border-color: transparent;\n",
              "      border-right-color: var(--fill-color);\n",
              "      border-bottom-color: var(--fill-color);\n",
              "    }\n",
              "    90% {\n",
              "      border-color: transparent;\n",
              "      border-bottom-color: var(--fill-color);\n",
              "    }\n",
              "  }\n",
              "</style>\n",
              "\n",
              "  <script>\n",
              "    async function quickchart(key) {\n",
              "      const quickchartButtonEl =\n",
              "        document.querySelector('#' + key + ' button');\n",
              "      quickchartButtonEl.disabled = true;  // To prevent multiple clicks.\n",
              "      quickchartButtonEl.classList.add('colab-df-spinner');\n",
              "      try {\n",
              "        const charts = await google.colab.kernel.invokeFunction(\n",
              "            'suggestCharts', [key], {});\n",
              "      } catch (error) {\n",
              "        console.error('Error during call to suggestCharts:', error);\n",
              "      }\n",
              "      quickchartButtonEl.classList.remove('colab-df-spinner');\n",
              "      quickchartButtonEl.classList.add('colab-df-quickchart-complete');\n",
              "    }\n",
              "    (() => {\n",
              "      let quickchartButtonEl =\n",
              "        document.querySelector('#df-034692f6-74a3-4532-9da8-37cac3a4ca4e button');\n",
              "      quickchartButtonEl.style.display =\n",
              "        google.colab.kernel.accessAllowed ? 'block' : 'none';\n",
              "    })();\n",
              "  </script>\n",
              "</div>\n",
              "\n",
              "    </div>\n",
              "  </div>\n"
            ],
            "application/vnd.google.colaboratory.intrinsic+json": {
              "type": "dataframe",
              "summary": "{\n  \"name\": \"data\",\n  \"rows\": 8,\n  \"fields\": [\n    {\n      \"column\": \"SeniorCitizen\",\n      \"properties\": {\n        \"dtype\": \"number\",\n        \"std\": 2489.9992387084,\n        \"min\": 0.0,\n        \"max\": 7043.0,\n        \"num_unique_values\": 5,\n        \"samples\": [\n          0.1621468124378816,\n          1.0,\n          0.3686116056100131\n        ],\n        \"semantic_type\": \"\",\n        \"description\": \"\"\n      }\n    },\n    {\n      \"column\": \"tenure\",\n      \"properties\": {\n        \"dtype\": \"number\",\n        \"std\": 2478.9752758409018,\n        \"min\": 0.0,\n        \"max\": 7043.0,\n        \"num_unique_values\": 8,\n        \"samples\": [\n          32.37114865824223,\n          29.0,\n          7043.0\n        ],\n        \"semantic_type\": \"\",\n        \"description\": \"\"\n      }\n    },\n    {\n      \"column\": \"MonthlyCharges\",\n      \"properties\": {\n        \"dtype\": \"number\",\n        \"std\": 2468.7047672837775,\n        \"min\": 18.25,\n        \"max\": 7043.0,\n        \"num_unique_values\": 8,\n        \"samples\": [\n          64.76169246059918,\n          70.35,\n          7043.0\n        ],\n        \"semantic_type\": \"\",\n        \"description\": \"\"\n      }\n    }\n  ]\n}"
            }
          },
          "metadata": {},
          "execution_count": 4
        }
      ]
    },
    {
      "cell_type": "code",
      "source": [
        "data.info()"
      ],
      "metadata": {
        "execution": {
          "iopub.status.busy": "2024-07-20T09:05:38.366049Z",
          "iopub.execute_input": "2024-07-20T09:05:38.366463Z",
          "iopub.status.idle": "2024-07-20T09:05:38.402724Z",
          "shell.execute_reply.started": "2024-07-20T09:05:38.366430Z",
          "shell.execute_reply": "2024-07-20T09:05:38.401367Z"
        },
        "trusted": true,
        "colab": {
          "base_uri": "https://localhost:8080/"
        },
        "id": "hgvYc05gL0vg",
        "outputId": "cfc3ad82-98bf-42c0-ccf9-dfc132d3e361"
      },
      "execution_count": 5,
      "outputs": [
        {
          "output_type": "stream",
          "name": "stdout",
          "text": [
            "<class 'pandas.core.frame.DataFrame'>\n",
            "RangeIndex: 7043 entries, 0 to 7042\n",
            "Data columns (total 21 columns):\n",
            " #   Column            Non-Null Count  Dtype  \n",
            "---  ------            --------------  -----  \n",
            " 0   customerID        7043 non-null   object \n",
            " 1   gender            7043 non-null   object \n",
            " 2   SeniorCitizen     7043 non-null   int64  \n",
            " 3   Partner           7043 non-null   object \n",
            " 4   Dependents        7043 non-null   object \n",
            " 5   tenure            7043 non-null   int64  \n",
            " 6   PhoneService      7043 non-null   object \n",
            " 7   MultipleLines     7043 non-null   object \n",
            " 8   InternetService   7043 non-null   object \n",
            " 9   OnlineSecurity    7043 non-null   object \n",
            " 10  OnlineBackup      7043 non-null   object \n",
            " 11  DeviceProtection  7043 non-null   object \n",
            " 12  TechSupport       7043 non-null   object \n",
            " 13  StreamingTV       7043 non-null   object \n",
            " 14  StreamingMovies   7043 non-null   object \n",
            " 15  Contract          7043 non-null   object \n",
            " 16  PaperlessBilling  7043 non-null   object \n",
            " 17  PaymentMethod     7043 non-null   object \n",
            " 18  MonthlyCharges    7043 non-null   float64\n",
            " 19  TotalCharges      7043 non-null   object \n",
            " 20  Churn             7043 non-null   object \n",
            "dtypes: float64(1), int64(2), object(18)\n",
            "memory usage: 1.1+ MB\n"
          ]
        }
      ]
    },
    {
      "cell_type": "code",
      "source": [
        "df = data.drop(['customerID'],axis=1)"
      ],
      "metadata": {
        "execution": {
          "iopub.status.busy": "2024-07-20T09:06:47.134579Z",
          "iopub.execute_input": "2024-07-20T09:06:47.134993Z",
          "iopub.status.idle": "2024-07-20T09:06:47.143535Z",
          "shell.execute_reply.started": "2024-07-20T09:06:47.134959Z",
          "shell.execute_reply": "2024-07-20T09:06:47.142168Z"
        },
        "trusted": true,
        "id": "E8sdnfn7L0vh"
      },
      "execution_count": 6,
      "outputs": []
    },
    {
      "cell_type": "code",
      "source": [
        "df.TotalCharges.dtype"
      ],
      "metadata": {
        "execution": {
          "iopub.status.busy": "2024-07-20T09:06:51.531693Z",
          "iopub.execute_input": "2024-07-20T09:06:51.532093Z",
          "iopub.status.idle": "2024-07-20T09:06:51.541924Z",
          "shell.execute_reply.started": "2024-07-20T09:06:51.532063Z",
          "shell.execute_reply": "2024-07-20T09:06:51.540726Z"
        },
        "trusted": true,
        "colab": {
          "base_uri": "https://localhost:8080/"
        },
        "id": "486BofOXL0vh",
        "outputId": "1268c7f2-23ef-4d6c-e465-c240ca836241"
      },
      "execution_count": 7,
      "outputs": [
        {
          "output_type": "execute_result",
          "data": {
            "text/plain": [
              "dtype('O')"
            ]
          },
          "metadata": {},
          "execution_count": 7
        }
      ]
    },
    {
      "cell_type": "code",
      "source": [
        "df[df.TotalCharges==' ']"
      ],
      "metadata": {
        "execution": {
          "iopub.status.busy": "2024-07-20T09:08:01.903288Z",
          "iopub.execute_input": "2024-07-20T09:08:01.903696Z",
          "iopub.status.idle": "2024-07-20T09:08:01.936738Z",
          "shell.execute_reply.started": "2024-07-20T09:08:01.903664Z",
          "shell.execute_reply": "2024-07-20T09:08:01.935591Z"
        },
        "trusted": true,
        "colab": {
          "base_uri": "https://localhost:8080/",
          "height": 570
        },
        "id": "RWnWyfLkL0vi",
        "outputId": "217843e3-a76b-400a-ca28-69c906644c13"
      },
      "execution_count": 10,
      "outputs": [
        {
          "output_type": "execute_result",
          "data": {
            "text/plain": [
              "      gender  SeniorCitizen Partner Dependents  tenure PhoneService  \\\n",
              "488   Female              0     Yes        Yes       0           No   \n",
              "753     Male              0      No        Yes       0          Yes   \n",
              "936   Female              0     Yes        Yes       0          Yes   \n",
              "1082    Male              0     Yes        Yes       0          Yes   \n",
              "1340  Female              0     Yes        Yes       0           No   \n",
              "3331    Male              0     Yes        Yes       0          Yes   \n",
              "3826    Male              0     Yes        Yes       0          Yes   \n",
              "4380  Female              0     Yes        Yes       0          Yes   \n",
              "5218    Male              0     Yes        Yes       0          Yes   \n",
              "6670  Female              0     Yes        Yes       0          Yes   \n",
              "6754    Male              0      No        Yes       0          Yes   \n",
              "\n",
              "         MultipleLines InternetService       OnlineSecurity  \\\n",
              "488   No phone service             DSL                  Yes   \n",
              "753                 No              No  No internet service   \n",
              "936                 No             DSL                  Yes   \n",
              "1082               Yes              No  No internet service   \n",
              "1340  No phone service             DSL                  Yes   \n",
              "3331                No              No  No internet service   \n",
              "3826               Yes              No  No internet service   \n",
              "4380                No              No  No internet service   \n",
              "5218                No              No  No internet service   \n",
              "6670               Yes             DSL                   No   \n",
              "6754               Yes             DSL                  Yes   \n",
              "\n",
              "             OnlineBackup     DeviceProtection          TechSupport  \\\n",
              "488                    No                  Yes                  Yes   \n",
              "753   No internet service  No internet service  No internet service   \n",
              "936                   Yes                  Yes                   No   \n",
              "1082  No internet service  No internet service  No internet service   \n",
              "1340                  Yes                  Yes                  Yes   \n",
              "3331  No internet service  No internet service  No internet service   \n",
              "3826  No internet service  No internet service  No internet service   \n",
              "4380  No internet service  No internet service  No internet service   \n",
              "5218  No internet service  No internet service  No internet service   \n",
              "6670                  Yes                  Yes                  Yes   \n",
              "6754                  Yes                   No                  Yes   \n",
              "\n",
              "              StreamingTV      StreamingMovies  Contract PaperlessBilling  \\\n",
              "488                   Yes                   No  Two year              Yes   \n",
              "753   No internet service  No internet service  Two year               No   \n",
              "936                   Yes                  Yes  Two year               No   \n",
              "1082  No internet service  No internet service  Two year               No   \n",
              "1340                  Yes                   No  Two year               No   \n",
              "3331  No internet service  No internet service  Two year               No   \n",
              "3826  No internet service  No internet service  Two year               No   \n",
              "4380  No internet service  No internet service  Two year               No   \n",
              "5218  No internet service  No internet service  One year              Yes   \n",
              "6670                  Yes                   No  Two year               No   \n",
              "6754                   No                   No  Two year              Yes   \n",
              "\n",
              "                  PaymentMethod  MonthlyCharges TotalCharges Churn  \n",
              "488   Bank transfer (automatic)           52.55                 No  \n",
              "753                Mailed check           20.25                 No  \n",
              "936                Mailed check           80.85                 No  \n",
              "1082               Mailed check           25.75                 No  \n",
              "1340    Credit card (automatic)           56.05                 No  \n",
              "3331               Mailed check           19.85                 No  \n",
              "3826               Mailed check           25.35                 No  \n",
              "4380               Mailed check           20.00                 No  \n",
              "5218               Mailed check           19.70                 No  \n",
              "6670               Mailed check           73.35                 No  \n",
              "6754  Bank transfer (automatic)           61.90                 No  "
            ],
            "text/html": [
              "\n",
              "  <div id=\"df-803bd024-7237-4aff-b182-f660342047de\" class=\"colab-df-container\">\n",
              "    <div>\n",
              "<style scoped>\n",
              "    .dataframe tbody tr th:only-of-type {\n",
              "        vertical-align: middle;\n",
              "    }\n",
              "\n",
              "    .dataframe tbody tr th {\n",
              "        vertical-align: top;\n",
              "    }\n",
              "\n",
              "    .dataframe thead th {\n",
              "        text-align: right;\n",
              "    }\n",
              "</style>\n",
              "<table border=\"1\" class=\"dataframe\">\n",
              "  <thead>\n",
              "    <tr style=\"text-align: right;\">\n",
              "      <th></th>\n",
              "      <th>gender</th>\n",
              "      <th>SeniorCitizen</th>\n",
              "      <th>Partner</th>\n",
              "      <th>Dependents</th>\n",
              "      <th>tenure</th>\n",
              "      <th>PhoneService</th>\n",
              "      <th>MultipleLines</th>\n",
              "      <th>InternetService</th>\n",
              "      <th>OnlineSecurity</th>\n",
              "      <th>OnlineBackup</th>\n",
              "      <th>DeviceProtection</th>\n",
              "      <th>TechSupport</th>\n",
              "      <th>StreamingTV</th>\n",
              "      <th>StreamingMovies</th>\n",
              "      <th>Contract</th>\n",
              "      <th>PaperlessBilling</th>\n",
              "      <th>PaymentMethod</th>\n",
              "      <th>MonthlyCharges</th>\n",
              "      <th>TotalCharges</th>\n",
              "      <th>Churn</th>\n",
              "    </tr>\n",
              "  </thead>\n",
              "  <tbody>\n",
              "    <tr>\n",
              "      <th>488</th>\n",
              "      <td>Female</td>\n",
              "      <td>0</td>\n",
              "      <td>Yes</td>\n",
              "      <td>Yes</td>\n",
              "      <td>0</td>\n",
              "      <td>No</td>\n",
              "      <td>No phone service</td>\n",
              "      <td>DSL</td>\n",
              "      <td>Yes</td>\n",
              "      <td>No</td>\n",
              "      <td>Yes</td>\n",
              "      <td>Yes</td>\n",
              "      <td>Yes</td>\n",
              "      <td>No</td>\n",
              "      <td>Two year</td>\n",
              "      <td>Yes</td>\n",
              "      <td>Bank transfer (automatic)</td>\n",
              "      <td>52.55</td>\n",
              "      <td></td>\n",
              "      <td>No</td>\n",
              "    </tr>\n",
              "    <tr>\n",
              "      <th>753</th>\n",
              "      <td>Male</td>\n",
              "      <td>0</td>\n",
              "      <td>No</td>\n",
              "      <td>Yes</td>\n",
              "      <td>0</td>\n",
              "      <td>Yes</td>\n",
              "      <td>No</td>\n",
              "      <td>No</td>\n",
              "      <td>No internet service</td>\n",
              "      <td>No internet service</td>\n",
              "      <td>No internet service</td>\n",
              "      <td>No internet service</td>\n",
              "      <td>No internet service</td>\n",
              "      <td>No internet service</td>\n",
              "      <td>Two year</td>\n",
              "      <td>No</td>\n",
              "      <td>Mailed check</td>\n",
              "      <td>20.25</td>\n",
              "      <td></td>\n",
              "      <td>No</td>\n",
              "    </tr>\n",
              "    <tr>\n",
              "      <th>936</th>\n",
              "      <td>Female</td>\n",
              "      <td>0</td>\n",
              "      <td>Yes</td>\n",
              "      <td>Yes</td>\n",
              "      <td>0</td>\n",
              "      <td>Yes</td>\n",
              "      <td>No</td>\n",
              "      <td>DSL</td>\n",
              "      <td>Yes</td>\n",
              "      <td>Yes</td>\n",
              "      <td>Yes</td>\n",
              "      <td>No</td>\n",
              "      <td>Yes</td>\n",
              "      <td>Yes</td>\n",
              "      <td>Two year</td>\n",
              "      <td>No</td>\n",
              "      <td>Mailed check</td>\n",
              "      <td>80.85</td>\n",
              "      <td></td>\n",
              "      <td>No</td>\n",
              "    </tr>\n",
              "    <tr>\n",
              "      <th>1082</th>\n",
              "      <td>Male</td>\n",
              "      <td>0</td>\n",
              "      <td>Yes</td>\n",
              "      <td>Yes</td>\n",
              "      <td>0</td>\n",
              "      <td>Yes</td>\n",
              "      <td>Yes</td>\n",
              "      <td>No</td>\n",
              "      <td>No internet service</td>\n",
              "      <td>No internet service</td>\n",
              "      <td>No internet service</td>\n",
              "      <td>No internet service</td>\n",
              "      <td>No internet service</td>\n",
              "      <td>No internet service</td>\n",
              "      <td>Two year</td>\n",
              "      <td>No</td>\n",
              "      <td>Mailed check</td>\n",
              "      <td>25.75</td>\n",
              "      <td></td>\n",
              "      <td>No</td>\n",
              "    </tr>\n",
              "    <tr>\n",
              "      <th>1340</th>\n",
              "      <td>Female</td>\n",
              "      <td>0</td>\n",
              "      <td>Yes</td>\n",
              "      <td>Yes</td>\n",
              "      <td>0</td>\n",
              "      <td>No</td>\n",
              "      <td>No phone service</td>\n",
              "      <td>DSL</td>\n",
              "      <td>Yes</td>\n",
              "      <td>Yes</td>\n",
              "      <td>Yes</td>\n",
              "      <td>Yes</td>\n",
              "      <td>Yes</td>\n",
              "      <td>No</td>\n",
              "      <td>Two year</td>\n",
              "      <td>No</td>\n",
              "      <td>Credit card (automatic)</td>\n",
              "      <td>56.05</td>\n",
              "      <td></td>\n",
              "      <td>No</td>\n",
              "    </tr>\n",
              "    <tr>\n",
              "      <th>3331</th>\n",
              "      <td>Male</td>\n",
              "      <td>0</td>\n",
              "      <td>Yes</td>\n",
              "      <td>Yes</td>\n",
              "      <td>0</td>\n",
              "      <td>Yes</td>\n",
              "      <td>No</td>\n",
              "      <td>No</td>\n",
              "      <td>No internet service</td>\n",
              "      <td>No internet service</td>\n",
              "      <td>No internet service</td>\n",
              "      <td>No internet service</td>\n",
              "      <td>No internet service</td>\n",
              "      <td>No internet service</td>\n",
              "      <td>Two year</td>\n",
              "      <td>No</td>\n",
              "      <td>Mailed check</td>\n",
              "      <td>19.85</td>\n",
              "      <td></td>\n",
              "      <td>No</td>\n",
              "    </tr>\n",
              "    <tr>\n",
              "      <th>3826</th>\n",
              "      <td>Male</td>\n",
              "      <td>0</td>\n",
              "      <td>Yes</td>\n",
              "      <td>Yes</td>\n",
              "      <td>0</td>\n",
              "      <td>Yes</td>\n",
              "      <td>Yes</td>\n",
              "      <td>No</td>\n",
              "      <td>No internet service</td>\n",
              "      <td>No internet service</td>\n",
              "      <td>No internet service</td>\n",
              "      <td>No internet service</td>\n",
              "      <td>No internet service</td>\n",
              "      <td>No internet service</td>\n",
              "      <td>Two year</td>\n",
              "      <td>No</td>\n",
              "      <td>Mailed check</td>\n",
              "      <td>25.35</td>\n",
              "      <td></td>\n",
              "      <td>No</td>\n",
              "    </tr>\n",
              "    <tr>\n",
              "      <th>4380</th>\n",
              "      <td>Female</td>\n",
              "      <td>0</td>\n",
              "      <td>Yes</td>\n",
              "      <td>Yes</td>\n",
              "      <td>0</td>\n",
              "      <td>Yes</td>\n",
              "      <td>No</td>\n",
              "      <td>No</td>\n",
              "      <td>No internet service</td>\n",
              "      <td>No internet service</td>\n",
              "      <td>No internet service</td>\n",
              "      <td>No internet service</td>\n",
              "      <td>No internet service</td>\n",
              "      <td>No internet service</td>\n",
              "      <td>Two year</td>\n",
              "      <td>No</td>\n",
              "      <td>Mailed check</td>\n",
              "      <td>20.00</td>\n",
              "      <td></td>\n",
              "      <td>No</td>\n",
              "    </tr>\n",
              "    <tr>\n",
              "      <th>5218</th>\n",
              "      <td>Male</td>\n",
              "      <td>0</td>\n",
              "      <td>Yes</td>\n",
              "      <td>Yes</td>\n",
              "      <td>0</td>\n",
              "      <td>Yes</td>\n",
              "      <td>No</td>\n",
              "      <td>No</td>\n",
              "      <td>No internet service</td>\n",
              "      <td>No internet service</td>\n",
              "      <td>No internet service</td>\n",
              "      <td>No internet service</td>\n",
              "      <td>No internet service</td>\n",
              "      <td>No internet service</td>\n",
              "      <td>One year</td>\n",
              "      <td>Yes</td>\n",
              "      <td>Mailed check</td>\n",
              "      <td>19.70</td>\n",
              "      <td></td>\n",
              "      <td>No</td>\n",
              "    </tr>\n",
              "    <tr>\n",
              "      <th>6670</th>\n",
              "      <td>Female</td>\n",
              "      <td>0</td>\n",
              "      <td>Yes</td>\n",
              "      <td>Yes</td>\n",
              "      <td>0</td>\n",
              "      <td>Yes</td>\n",
              "      <td>Yes</td>\n",
              "      <td>DSL</td>\n",
              "      <td>No</td>\n",
              "      <td>Yes</td>\n",
              "      <td>Yes</td>\n",
              "      <td>Yes</td>\n",
              "      <td>Yes</td>\n",
              "      <td>No</td>\n",
              "      <td>Two year</td>\n",
              "      <td>No</td>\n",
              "      <td>Mailed check</td>\n",
              "      <td>73.35</td>\n",
              "      <td></td>\n",
              "      <td>No</td>\n",
              "    </tr>\n",
              "    <tr>\n",
              "      <th>6754</th>\n",
              "      <td>Male</td>\n",
              "      <td>0</td>\n",
              "      <td>No</td>\n",
              "      <td>Yes</td>\n",
              "      <td>0</td>\n",
              "      <td>Yes</td>\n",
              "      <td>Yes</td>\n",
              "      <td>DSL</td>\n",
              "      <td>Yes</td>\n",
              "      <td>Yes</td>\n",
              "      <td>No</td>\n",
              "      <td>Yes</td>\n",
              "      <td>No</td>\n",
              "      <td>No</td>\n",
              "      <td>Two year</td>\n",
              "      <td>Yes</td>\n",
              "      <td>Bank transfer (automatic)</td>\n",
              "      <td>61.90</td>\n",
              "      <td></td>\n",
              "      <td>No</td>\n",
              "    </tr>\n",
              "  </tbody>\n",
              "</table>\n",
              "</div>\n",
              "    <div class=\"colab-df-buttons\">\n",
              "\n",
              "  <div class=\"colab-df-container\">\n",
              "    <button class=\"colab-df-convert\" onclick=\"convertToInteractive('df-803bd024-7237-4aff-b182-f660342047de')\"\n",
              "            title=\"Convert this dataframe to an interactive table.\"\n",
              "            style=\"display:none;\">\n",
              "\n",
              "  <svg xmlns=\"http://www.w3.org/2000/svg\" height=\"24px\" viewBox=\"0 -960 960 960\">\n",
              "    <path d=\"M120-120v-720h720v720H120Zm60-500h600v-160H180v160Zm220 220h160v-160H400v160Zm0 220h160v-160H400v160ZM180-400h160v-160H180v160Zm440 0h160v-160H620v160ZM180-180h160v-160H180v160Zm440 0h160v-160H620v160Z\"/>\n",
              "  </svg>\n",
              "    </button>\n",
              "\n",
              "  <style>\n",
              "    .colab-df-container {\n",
              "      display:flex;\n",
              "      gap: 12px;\n",
              "    }\n",
              "\n",
              "    .colab-df-convert {\n",
              "      background-color: #E8F0FE;\n",
              "      border: none;\n",
              "      border-radius: 50%;\n",
              "      cursor: pointer;\n",
              "      display: none;\n",
              "      fill: #1967D2;\n",
              "      height: 32px;\n",
              "      padding: 0 0 0 0;\n",
              "      width: 32px;\n",
              "    }\n",
              "\n",
              "    .colab-df-convert:hover {\n",
              "      background-color: #E2EBFA;\n",
              "      box-shadow: 0px 1px 2px rgba(60, 64, 67, 0.3), 0px 1px 3px 1px rgba(60, 64, 67, 0.15);\n",
              "      fill: #174EA6;\n",
              "    }\n",
              "\n",
              "    .colab-df-buttons div {\n",
              "      margin-bottom: 4px;\n",
              "    }\n",
              "\n",
              "    [theme=dark] .colab-df-convert {\n",
              "      background-color: #3B4455;\n",
              "      fill: #D2E3FC;\n",
              "    }\n",
              "\n",
              "    [theme=dark] .colab-df-convert:hover {\n",
              "      background-color: #434B5C;\n",
              "      box-shadow: 0px 1px 3px 1px rgba(0, 0, 0, 0.15);\n",
              "      filter: drop-shadow(0px 1px 2px rgba(0, 0, 0, 0.3));\n",
              "      fill: #FFFFFF;\n",
              "    }\n",
              "  </style>\n",
              "\n",
              "    <script>\n",
              "      const buttonEl =\n",
              "        document.querySelector('#df-803bd024-7237-4aff-b182-f660342047de button.colab-df-convert');\n",
              "      buttonEl.style.display =\n",
              "        google.colab.kernel.accessAllowed ? 'block' : 'none';\n",
              "\n",
              "      async function convertToInteractive(key) {\n",
              "        const element = document.querySelector('#df-803bd024-7237-4aff-b182-f660342047de');\n",
              "        const dataTable =\n",
              "          await google.colab.kernel.invokeFunction('convertToInteractive',\n",
              "                                                    [key], {});\n",
              "        if (!dataTable) return;\n",
              "\n",
              "        const docLinkHtml = 'Like what you see? Visit the ' +\n",
              "          '<a target=\"_blank\" href=https://colab.research.google.com/notebooks/data_table.ipynb>data table notebook</a>'\n",
              "          + ' to learn more about interactive tables.';\n",
              "        element.innerHTML = '';\n",
              "        dataTable['output_type'] = 'display_data';\n",
              "        await google.colab.output.renderOutput(dataTable, element);\n",
              "        const docLink = document.createElement('div');\n",
              "        docLink.innerHTML = docLinkHtml;\n",
              "        element.appendChild(docLink);\n",
              "      }\n",
              "    </script>\n",
              "  </div>\n",
              "\n",
              "\n",
              "<div id=\"df-1862fb2b-8de4-4ed5-8232-e8aa993855f7\">\n",
              "  <button class=\"colab-df-quickchart\" onclick=\"quickchart('df-1862fb2b-8de4-4ed5-8232-e8aa993855f7')\"\n",
              "            title=\"Suggest charts\"\n",
              "            style=\"display:none;\">\n",
              "\n",
              "<svg xmlns=\"http://www.w3.org/2000/svg\" height=\"24px\"viewBox=\"0 0 24 24\"\n",
              "     width=\"24px\">\n",
              "    <g>\n",
              "        <path d=\"M19 3H5c-1.1 0-2 .9-2 2v14c0 1.1.9 2 2 2h14c1.1 0 2-.9 2-2V5c0-1.1-.9-2-2-2zM9 17H7v-7h2v7zm4 0h-2V7h2v10zm4 0h-2v-4h2v4z\"/>\n",
              "    </g>\n",
              "</svg>\n",
              "  </button>\n",
              "\n",
              "<style>\n",
              "  .colab-df-quickchart {\n",
              "      --bg-color: #E8F0FE;\n",
              "      --fill-color: #1967D2;\n",
              "      --hover-bg-color: #E2EBFA;\n",
              "      --hover-fill-color: #174EA6;\n",
              "      --disabled-fill-color: #AAA;\n",
              "      --disabled-bg-color: #DDD;\n",
              "  }\n",
              "\n",
              "  [theme=dark] .colab-df-quickchart {\n",
              "      --bg-color: #3B4455;\n",
              "      --fill-color: #D2E3FC;\n",
              "      --hover-bg-color: #434B5C;\n",
              "      --hover-fill-color: #FFFFFF;\n",
              "      --disabled-bg-color: #3B4455;\n",
              "      --disabled-fill-color: #666;\n",
              "  }\n",
              "\n",
              "  .colab-df-quickchart {\n",
              "    background-color: var(--bg-color);\n",
              "    border: none;\n",
              "    border-radius: 50%;\n",
              "    cursor: pointer;\n",
              "    display: none;\n",
              "    fill: var(--fill-color);\n",
              "    height: 32px;\n",
              "    padding: 0;\n",
              "    width: 32px;\n",
              "  }\n",
              "\n",
              "  .colab-df-quickchart:hover {\n",
              "    background-color: var(--hover-bg-color);\n",
              "    box-shadow: 0 1px 2px rgba(60, 64, 67, 0.3), 0 1px 3px 1px rgba(60, 64, 67, 0.15);\n",
              "    fill: var(--button-hover-fill-color);\n",
              "  }\n",
              "\n",
              "  .colab-df-quickchart-complete:disabled,\n",
              "  .colab-df-quickchart-complete:disabled:hover {\n",
              "    background-color: var(--disabled-bg-color);\n",
              "    fill: var(--disabled-fill-color);\n",
              "    box-shadow: none;\n",
              "  }\n",
              "\n",
              "  .colab-df-spinner {\n",
              "    border: 2px solid var(--fill-color);\n",
              "    border-color: transparent;\n",
              "    border-bottom-color: var(--fill-color);\n",
              "    animation:\n",
              "      spin 1s steps(1) infinite;\n",
              "  }\n",
              "\n",
              "  @keyframes spin {\n",
              "    0% {\n",
              "      border-color: transparent;\n",
              "      border-bottom-color: var(--fill-color);\n",
              "      border-left-color: var(--fill-color);\n",
              "    }\n",
              "    20% {\n",
              "      border-color: transparent;\n",
              "      border-left-color: var(--fill-color);\n",
              "      border-top-color: var(--fill-color);\n",
              "    }\n",
              "    30% {\n",
              "      border-color: transparent;\n",
              "      border-left-color: var(--fill-color);\n",
              "      border-top-color: var(--fill-color);\n",
              "      border-right-color: var(--fill-color);\n",
              "    }\n",
              "    40% {\n",
              "      border-color: transparent;\n",
              "      border-right-color: var(--fill-color);\n",
              "      border-top-color: var(--fill-color);\n",
              "    }\n",
              "    60% {\n",
              "      border-color: transparent;\n",
              "      border-right-color: var(--fill-color);\n",
              "    }\n",
              "    80% {\n",
              "      border-color: transparent;\n",
              "      border-right-color: var(--fill-color);\n",
              "      border-bottom-color: var(--fill-color);\n",
              "    }\n",
              "    90% {\n",
              "      border-color: transparent;\n",
              "      border-bottom-color: var(--fill-color);\n",
              "    }\n",
              "  }\n",
              "</style>\n",
              "\n",
              "  <script>\n",
              "    async function quickchart(key) {\n",
              "      const quickchartButtonEl =\n",
              "        document.querySelector('#' + key + ' button');\n",
              "      quickchartButtonEl.disabled = true;  // To prevent multiple clicks.\n",
              "      quickchartButtonEl.classList.add('colab-df-spinner');\n",
              "      try {\n",
              "        const charts = await google.colab.kernel.invokeFunction(\n",
              "            'suggestCharts', [key], {});\n",
              "      } catch (error) {\n",
              "        console.error('Error during call to suggestCharts:', error);\n",
              "      }\n",
              "      quickchartButtonEl.classList.remove('colab-df-spinner');\n",
              "      quickchartButtonEl.classList.add('colab-df-quickchart-complete');\n",
              "    }\n",
              "    (() => {\n",
              "      let quickchartButtonEl =\n",
              "        document.querySelector('#df-1862fb2b-8de4-4ed5-8232-e8aa993855f7 button');\n",
              "      quickchartButtonEl.style.display =\n",
              "        google.colab.kernel.accessAllowed ? 'block' : 'none';\n",
              "    })();\n",
              "  </script>\n",
              "</div>\n",
              "\n",
              "    </div>\n",
              "  </div>\n"
            ],
            "application/vnd.google.colaboratory.intrinsic+json": {
              "type": "dataframe",
              "summary": "{\n  \"name\": \"df[df\",\n  \"rows\": 11,\n  \"fields\": [\n    {\n      \"column\": \"gender\",\n      \"properties\": {\n        \"dtype\": \"category\",\n        \"num_unique_values\": 2,\n        \"samples\": [\n          \"Male\",\n          \"Female\"\n        ],\n        \"semantic_type\": \"\",\n        \"description\": \"\"\n      }\n    },\n    {\n      \"column\": \"SeniorCitizen\",\n      \"properties\": {\n        \"dtype\": \"number\",\n        \"std\": 0,\n        \"min\": 0,\n        \"max\": 0,\n        \"num_unique_values\": 1,\n        \"samples\": [\n          0\n        ],\n        \"semantic_type\": \"\",\n        \"description\": \"\"\n      }\n    },\n    {\n      \"column\": \"Partner\",\n      \"properties\": {\n        \"dtype\": \"category\",\n        \"num_unique_values\": 2,\n        \"samples\": [\n          \"No\"\n        ],\n        \"semantic_type\": \"\",\n        \"description\": \"\"\n      }\n    },\n    {\n      \"column\": \"Dependents\",\n      \"properties\": {\n        \"dtype\": \"category\",\n        \"num_unique_values\": 1,\n        \"samples\": [\n          \"Yes\"\n        ],\n        \"semantic_type\": \"\",\n        \"description\": \"\"\n      }\n    },\n    {\n      \"column\": \"tenure\",\n      \"properties\": {\n        \"dtype\": \"number\",\n        \"std\": 0,\n        \"min\": 0,\n        \"max\": 0,\n        \"num_unique_values\": 1,\n        \"samples\": [\n          0\n        ],\n        \"semantic_type\": \"\",\n        \"description\": \"\"\n      }\n    },\n    {\n      \"column\": \"PhoneService\",\n      \"properties\": {\n        \"dtype\": \"category\",\n        \"num_unique_values\": 2,\n        \"samples\": [\n          \"Yes\"\n        ],\n        \"semantic_type\": \"\",\n        \"description\": \"\"\n      }\n    },\n    {\n      \"column\": \"MultipleLines\",\n      \"properties\": {\n        \"dtype\": \"category\",\n        \"num_unique_values\": 3,\n        \"samples\": [\n          \"No phone service\"\n        ],\n        \"semantic_type\": \"\",\n        \"description\": \"\"\n      }\n    },\n    {\n      \"column\": \"InternetService\",\n      \"properties\": {\n        \"dtype\": \"category\",\n        \"num_unique_values\": 2,\n        \"samples\": [\n          \"No\"\n        ],\n        \"semantic_type\": \"\",\n        \"description\": \"\"\n      }\n    },\n    {\n      \"column\": \"OnlineSecurity\",\n      \"properties\": {\n        \"dtype\": \"category\",\n        \"num_unique_values\": 3,\n        \"samples\": [\n          \"Yes\"\n        ],\n        \"semantic_type\": \"\",\n        \"description\": \"\"\n      }\n    },\n    {\n      \"column\": \"OnlineBackup\",\n      \"properties\": {\n        \"dtype\": \"category\",\n        \"num_unique_values\": 3,\n        \"samples\": [\n          \"No\"\n        ],\n        \"semantic_type\": \"\",\n        \"description\": \"\"\n      }\n    },\n    {\n      \"column\": \"DeviceProtection\",\n      \"properties\": {\n        \"dtype\": \"category\",\n        \"num_unique_values\": 3,\n        \"samples\": [\n          \"Yes\"\n        ],\n        \"semantic_type\": \"\",\n        \"description\": \"\"\n      }\n    },\n    {\n      \"column\": \"TechSupport\",\n      \"properties\": {\n        \"dtype\": \"category\",\n        \"num_unique_values\": 3,\n        \"samples\": [\n          \"Yes\"\n        ],\n        \"semantic_type\": \"\",\n        \"description\": \"\"\n      }\n    },\n    {\n      \"column\": \"StreamingTV\",\n      \"properties\": {\n        \"dtype\": \"category\",\n        \"num_unique_values\": 3,\n        \"samples\": [\n          \"Yes\"\n        ],\n        \"semantic_type\": \"\",\n        \"description\": \"\"\n      }\n    },\n    {\n      \"column\": \"StreamingMovies\",\n      \"properties\": {\n        \"dtype\": \"category\",\n        \"num_unique_values\": 3,\n        \"samples\": [\n          \"No\"\n        ],\n        \"semantic_type\": \"\",\n        \"description\": \"\"\n      }\n    },\n    {\n      \"column\": \"Contract\",\n      \"properties\": {\n        \"dtype\": \"category\",\n        \"num_unique_values\": 2,\n        \"samples\": [\n          \"One year\"\n        ],\n        \"semantic_type\": \"\",\n        \"description\": \"\"\n      }\n    },\n    {\n      \"column\": \"PaperlessBilling\",\n      \"properties\": {\n        \"dtype\": \"category\",\n        \"num_unique_values\": 2,\n        \"samples\": [\n          \"No\"\n        ],\n        \"semantic_type\": \"\",\n        \"description\": \"\"\n      }\n    },\n    {\n      \"column\": \"PaymentMethod\",\n      \"properties\": {\n        \"dtype\": \"category\",\n        \"num_unique_values\": 3,\n        \"samples\": [\n          \"Bank transfer (automatic)\"\n        ],\n        \"semantic_type\": \"\",\n        \"description\": \"\"\n      }\n    },\n    {\n      \"column\": \"MonthlyCharges\",\n      \"properties\": {\n        \"dtype\": \"number\",\n        \"std\": 23.83148414101892,\n        \"min\": 19.7,\n        \"max\": 80.85,\n        \"num_unique_values\": 11,\n        \"samples\": [\n          19.85\n        ],\n        \"semantic_type\": \"\",\n        \"description\": \"\"\n      }\n    },\n    {\n      \"column\": \"TotalCharges\",\n      \"properties\": {\n        \"dtype\": \"category\",\n        \"num_unique_values\": 1,\n        \"samples\": [\n          \" \"\n        ],\n        \"semantic_type\": \"\",\n        \"description\": \"\"\n      }\n    },\n    {\n      \"column\": \"Churn\",\n      \"properties\": {\n        \"dtype\": \"category\",\n        \"num_unique_values\": 1,\n        \"samples\": [\n          \"No\"\n        ],\n        \"semantic_type\": \"\",\n        \"description\": \"\"\n      }\n    }\n  ]\n}"
            }
          },
          "metadata": {},
          "execution_count": 10
        }
      ]
    },
    {
      "cell_type": "code",
      "source": [
        "df = df[df.TotalCharges!=' ']"
      ],
      "metadata": {
        "execution": {
          "iopub.status.busy": "2024-07-20T09:08:27.755168Z",
          "iopub.execute_input": "2024-07-20T09:08:27.755575Z",
          "iopub.status.idle": "2024-07-20T09:08:27.766264Z",
          "shell.execute_reply.started": "2024-07-20T09:08:27.755542Z",
          "shell.execute_reply": "2024-07-20T09:08:27.764830Z"
        },
        "trusted": true,
        "id": "fO23Mzu7L0vj"
      },
      "execution_count": 11,
      "outputs": []
    },
    {
      "cell_type": "code",
      "source": [
        "df.TotalCharges = pd.to_numeric(df.TotalCharges)"
      ],
      "metadata": {
        "execution": {
          "iopub.status.busy": "2024-07-20T09:08:51.648555Z",
          "iopub.execute_input": "2024-07-20T09:08:51.648989Z",
          "iopub.status.idle": "2024-07-20T09:08:51.662504Z",
          "shell.execute_reply.started": "2024-07-20T09:08:51.648952Z",
          "shell.execute_reply": "2024-07-20T09:08:51.661129Z"
        },
        "trusted": true,
        "id": "ReEbgL-hL0vj"
      },
      "execution_count": 12,
      "outputs": []
    },
    {
      "cell_type": "code",
      "source": [
        "import seaborn as sns\n",
        "import matplotlib.pyplot as plt\n",
        "sns.countplot(data=df,x='Churn')"
      ],
      "metadata": {
        "execution": {
          "iopub.status.busy": "2024-07-20T09:17:47.248383Z",
          "iopub.execute_input": "2024-07-20T09:17:47.248769Z",
          "iopub.status.idle": "2024-07-20T09:17:47.530900Z",
          "shell.execute_reply.started": "2024-07-20T09:17:47.248740Z",
          "shell.execute_reply": "2024-07-20T09:17:47.529545Z"
        },
        "trusted": true,
        "colab": {
          "base_uri": "https://localhost:8080/",
          "height": 467
        },
        "id": "fObDEWmsL0vk",
        "outputId": "51ec528f-0c7d-49cf-fa98-e63c8416d4e5"
      },
      "execution_count": 15,
      "outputs": [
        {
          "output_type": "execute_result",
          "data": {
            "text/plain": [
              "<Axes: xlabel='Churn', ylabel='count'>"
            ]
          },
          "metadata": {},
          "execution_count": 15
        },
        {
          "output_type": "display_data",
          "data": {
            "text/plain": [
              "<Figure size 640x480 with 1 Axes>"
            ],
            "image/png": "[encoded data removed]"
          },
          "metadata": {}
        }
      ]
    },
    {
      "cell_type": "code",
      "source": [
        "sns.histplot(data=data,x='MonthlyCharges',hue='Churn',kde=True)"
      ],
      "metadata": {
        "execution": {
          "iopub.status.busy": "2024-07-20T09:20:42.414869Z",
          "iopub.execute_input": "2024-07-20T09:20:42.415279Z",
          "iopub.status.idle": "2024-07-20T09:20:43.070314Z",
          "shell.execute_reply.started": "2024-07-20T09:20:42.415248Z",
          "shell.execute_reply": "2024-07-20T09:20:43.069126Z"
        },
        "trusted": true,
        "colab": {
          "base_uri": "https://localhost:8080/",
          "height": 467
        },
        "id": "PD1igRYKL0vk",
        "outputId": "165cdf95-89f2-44ee-87e2-046d6cce9126"
      },
      "execution_count": 16,
      "outputs": [
        {
          "output_type": "execute_result",
          "data": {
            "text/plain": [
              "<Axes: xlabel='MonthlyCharges', ylabel='Count'>"
            ]
          },
          "metadata": {},
          "execution_count": 16
        },
        {
          "output_type": "display_data",
          "data": {
            "text/plain": [
              "<Figure size 640x480 with 1 Axes>"
            ],
            "image/png": "[encoded data removed]"
          },
          "metadata": {}
        }
      ]
    },
    {
      "cell_type": "code",
      "source": [
        "sns.histplot(x=df.TotalCharges,hue=df.Churn,kde=True)"
      ],
      "metadata": {
        "execution": {
          "iopub.status.busy": "2024-07-20T09:29:29.063950Z",
          "iopub.execute_input": "2024-07-20T09:29:29.064991Z",
          "iopub.status.idle": "2024-07-20T09:29:29.673281Z",
          "shell.execute_reply.started": "2024-07-20T09:29:29.064950Z",
          "shell.execute_reply": "2024-07-20T09:29:29.672019Z"
        },
        "trusted": true,
        "colab": {
          "base_uri": "https://localhost:8080/",
          "height": 467
        },
        "id": "wUY56lIBL0vl",
        "outputId": "eab5bc4d-c7b0-471c-da3a-551d014d0710"
      },
      "execution_count": 17,
      "outputs": [
        {
          "output_type": "execute_result",
          "data": {
            "text/plain": [
              "<Axes: xlabel='TotalCharges', ylabel='Count'>"
            ]
          },
          "metadata": {},
          "execution_count": 17
        },
        {
          "output_type": "display_data",
          "data": {
            "text/plain": [
              "<Figure size 640x480 with 1 Axes>"
            ],
            "image/png": "[encoded data removed]"
          },
          "metadata": {}
        }
      ]
    },
    {
      "cell_type": "code",
      "source": [
        "sns.histplot(x=df.tenure,hue=df.Churn,kde=True)"
      ],
      "metadata": {
        "execution": {
          "iopub.status.busy": "2024-07-20T09:30:35.214945Z",
          "iopub.execute_input": "2024-07-20T09:30:35.216174Z",
          "iopub.status.idle": "2024-07-20T09:30:35.865635Z",
          "shell.execute_reply.started": "2024-07-20T09:30:35.216130Z",
          "shell.execute_reply": "2024-07-20T09:30:35.864131Z"
        },
        "trusted": true,
        "colab": {
          "base_uri": "https://localhost:8080/",
          "height": 467
        },
        "id": "vI0_L5EpL0vl",
        "outputId": "727ee56a-44fa-4914-e56d-7286ca3e0680"
      },
      "execution_count": 18,
      "outputs": [
        {
          "output_type": "execute_result",
          "data": {
            "text/plain": [
              "<Axes: xlabel='tenure', ylabel='Count'>"
            ]
          },
          "metadata": {},
          "execution_count": 18
        },
        {
          "output_type": "display_data",
          "data": {
            "text/plain": [
              "<Figure size 640x480 with 1 Axes>"
            ],
            "image/png": "[encoded data removed]"
          },
          "metadata": {}
        }
      ]
    },
    {
      "cell_type": "code",
      "source": [
        "sns.countplot(data=df,x='gender',hue='Churn')"
      ],
      "metadata": {
        "execution": {
          "iopub.status.busy": "2024-07-20T09:32:27.548235Z",
          "iopub.execute_input": "2024-07-20T09:32:27.549595Z",
          "iopub.status.idle": "2024-07-20T09:32:27.862809Z",
          "shell.execute_reply.started": "2024-07-20T09:32:27.549550Z",
          "shell.execute_reply": "2024-07-20T09:32:27.861563Z"
        },
        "trusted": true,
        "colab": {
          "base_uri": "https://localhost:8080/",
          "height": 467
        },
        "id": "dF7cUnCXL0vl",
        "outputId": "1f515ba0-f483-4260-f25a-ec18e4b4d2e5"
      },
      "execution_count": 19,
      "outputs": [
        {
          "output_type": "execute_result",
          "data": {
            "text/plain": [
              "<Axes: xlabel='gender', ylabel='count'>"
            ]
          },
          "metadata": {},
          "execution_count": 19
        },
        {
          "output_type": "display_data",
          "data": {
            "text/plain": [
              "<Figure size 640x480 with 1 Axes>"
            ],
            "image/png": "[encoded data removed]"
          },
          "metadata": {}
        }
      ]
    },
    {
      "cell_type": "code",
      "source": [
        "df.columns"
      ],
      "metadata": {
        "execution": {
          "iopub.status.busy": "2024-07-20T09:35:05.016699Z",
          "iopub.execute_input": "2024-07-20T09:35:05.017143Z",
          "iopub.status.idle": "2024-07-20T09:35:05.026178Z",
          "shell.execute_reply.started": "2024-07-20T09:35:05.017107Z",
          "shell.execute_reply": "2024-07-20T09:35:05.024934Z"
        },
        "trusted": true,
        "colab": {
          "base_uri": "https://localhost:8080/"
        },
        "id": "lYo-wHMrL0vm",
        "outputId": "295a9b79-fc8c-4257-e0e7-86f9105982ad"
      },
      "execution_count": 20,
      "outputs": [
        {
          "output_type": "execute_result",
          "data": {
            "text/plain": [
              "Index(['gender', 'SeniorCitizen', 'Partner', 'Dependents', 'tenure',\n",
              "       'PhoneService', 'MultipleLines', 'InternetService', 'OnlineSecurity',\n",
              "       'OnlineBackup', 'DeviceProtection', 'TechSupport', 'StreamingTV',\n",
              "       'StreamingMovies', 'Contract', 'PaperlessBilling', 'PaymentMethod',\n",
              "       'MonthlyCharges', 'TotalCharges', 'Churn'],\n",
              "      dtype='object')"
            ]
          },
          "metadata": {},
          "execution_count": 20
        }
      ]
    },
    {
      "cell_type": "code",
      "source": [
        "pd.crosstab(df.Contract,df.Churn).plot()"
      ],
      "metadata": {
        "execution": {
          "iopub.status.busy": "2024-07-20T09:41:15.370461Z",
          "iopub.execute_input": "2024-07-20T09:41:15.370988Z",
          "iopub.status.idle": "2024-07-20T09:41:15.721688Z",
          "shell.execute_reply.started": "2024-07-20T09:41:15.370949Z",
          "shell.execute_reply": "2024-07-20T09:41:15.720619Z"
        },
        "trusted": true,
        "colab": {
          "base_uri": "https://localhost:8080/",
          "height": 467
        },
        "id": "h_N6DvDcL0vm",
        "outputId": "70d811df-e524-4a4e-fb64-fe7f07ca9d63"
      },
      "execution_count": 21,
      "outputs": [
        {
          "output_type": "execute_result",
          "data": {
            "text/plain": [
              "<Axes: xlabel='Contract'>"
            ]
          },
          "metadata": {},
          "execution_count": 21
        },
        {
          "output_type": "display_data",
          "data": {
            "text/plain": [
              "<Figure size 640x480 with 1 Axes>"
            ],
            "image/png": "[encoded data removed]"
          },
          "metadata": {}
        }
      ]
    },
    {
      "cell_type": "code",
      "source": [
        "pd.crosstab(df.Contract,df.Churn).plot()"
      ],
      "metadata": {
        "execution": {
          "iopub.status.busy": "2024-07-20T09:44:59.190658Z",
          "iopub.execute_input": "2024-07-20T09:44:59.191110Z",
          "iopub.status.idle": "2024-07-20T09:44:59.512710Z",
          "shell.execute_reply.started": "2024-07-20T09:44:59.191072Z",
          "shell.execute_reply": "2024-07-20T09:44:59.511194Z"
        },
        "trusted": true,
        "colab": {
          "base_uri": "https://localhost:8080/",
          "height": 467
        },
        "id": "gZHNN-btL0vn",
        "outputId": "ef11800c-2dcd-4c52-97a7-f99435f35b19"
      },
      "execution_count": 22,
      "outputs": [
        {
          "output_type": "execute_result",
          "data": {
            "text/plain": [
              "<Axes: xlabel='Contract'>"
            ]
          },
          "metadata": {},
          "execution_count": 22
        },
        {
          "output_type": "display_data",
          "data": {
            "text/plain": [
              "<Figure size 640x480 with 1 Axes>"
            ],
            "image/png": "[encoded data removed]"
          },
          "metadata": {}
        }
      ]
    },
    {
      "cell_type": "code",
      "source": [
        "sns.heatmap(pd.crosstab(df.Contract,df.Churn),annot=True,fmt='g')"
      ],
      "metadata": {
        "execution": {
          "iopub.status.busy": "2024-07-20T09:46:04.065863Z",
          "iopub.execute_input": "2024-07-20T09:46:04.066796Z",
          "iopub.status.idle": "2024-07-20T09:46:04.449373Z",
          "shell.execute_reply.started": "2024-07-20T09:46:04.066756Z",
          "shell.execute_reply": "2024-07-20T09:46:04.448089Z"
        },
        "trusted": true,
        "colab": {
          "base_uri": "https://localhost:8080/",
          "height": 467
        },
        "id": "0OIk9ESBL0vn",
        "outputId": "ff006384-c594-4b1a-f2c5-27203c0c4be1"
      },
      "execution_count": 23,
      "outputs": [
        {
          "output_type": "execute_result",
          "data": {
            "text/plain": [
              "<Axes: xlabel='Churn', ylabel='Contract'>"
            ]
          },
          "metadata": {},
          "execution_count": 23
        },
        {
          "output_type": "display_data",
          "data": {
            "text/plain": [
              "<Figure size 640x480 with 2 Axes>"
            ],
            "image/png": "[encoded data removed]"
          },
          "metadata": {}
        }
      ]
    },
    {
      "cell_type": "code",
      "source": [
        "pd.crosstab(df.Churn,df.PaymentMethod)"
      ],
      "metadata": {
        "execution": {
          "iopub.status.busy": "2024-07-20T09:59:06.132592Z",
          "iopub.execute_input": "2024-07-20T09:59:06.133045Z",
          "iopub.status.idle": "2024-07-20T09:59:06.157396Z",
          "shell.execute_reply.started": "2024-07-20T09:59:06.132986Z",
          "shell.execute_reply": "2024-07-20T09:59:06.155758Z"
        },
        "trusted": true,
        "colab": {
          "base_uri": "https://localhost:8080/",
          "height": 143
        },
        "id": "DgDKIoQfL0vo",
        "outputId": "f323a7e1-681f-443c-8854-6613ac54bdd9"
      },
      "execution_count": 24,
      "outputs": [
        {
          "output_type": "execute_result",
          "data": {
            "text/plain": [
              "PaymentMethod  Bank transfer (automatic)  Credit card (automatic)  \\\n",
              "Churn                                                               \n",
              "No                                  1284                     1289   \n",
              "Yes                                  258                      232   \n",
              "\n",
              "PaymentMethod  Electronic check  Mailed check  \n",
              "Churn                                          \n",
              "No                         1294          1296  \n",
              "Yes                        1071           308  "
            ],
            "text/html": [
              "\n",
              "  <div id=\"df-41bb154f-4f68-4aa8-b710-21fc5e0954de\" class=\"colab-df-container\">\n",
              "    <div>\n",
              "<style scoped>\n",
              "    .dataframe tbody tr th:only-of-type {\n",
              "        vertical-align: middle;\n",
              "    }\n",
              "\n",
              "    .dataframe tbody tr th {\n",
              "        vertical-align: top;\n",
              "    }\n",
              "\n",
              "    .dataframe thead th {\n",
              "        text-align: right;\n",
              "    }\n",
              "</style>\n",
              "<table border=\"1\" class=\"dataframe\">\n",
              "  <thead>\n",
              "    <tr style=\"text-align: right;\">\n",
              "      <th>PaymentMethod</th>\n",
              "      <th>Bank transfer (automatic)</th>\n",
              "      <th>Credit card (automatic)</th>\n",
              "      <th>Electronic check</th>\n",
              "      <th>Mailed check</th>\n",
              "    </tr>\n",
              "    <tr>\n",
              "      <th>Churn</th>\n",
              "      <th></th>\n",
              "      <th></th>\n",
              "      <th></th>\n",
              "      <th></th>\n",
              "    </tr>\n",
              "  </thead>\n",
              "  <tbody>\n",
              "    <tr>\n",
              "      <th>No</th>\n",
              "      <td>1284</td>\n",
              "      <td>1289</td>\n",
              "      <td>1294</td>\n",
              "      <td>1296</td>\n",
              "    </tr>\n",
              "    <tr>\n",
              "      <th>Yes</th>\n",
              "      <td>258</td>\n",
              "      <td>232</td>\n",
              "      <td>1071</td>\n",
              "      <td>308</td>\n",
              "    </tr>\n",
              "  </tbody>\n",
              "</table>\n",
              "</div>\n",
              "    <div class=\"colab-df-buttons\">\n",
              "\n",
              "  <div class=\"colab-df-container\">\n",
              "    <button class=\"colab-df-convert\" onclick=\"convertToInteractive('df-41bb154f-4f68-4aa8-b710-21fc5e0954de')\"\n",
              "            title=\"Convert this dataframe to an interactive table.\"\n",
              "            style=\"display:none;\">\n",
              "\n",
              "  <svg xmlns=\"http://www.w3.org/2000/svg\" height=\"24px\" viewBox=\"0 -960 960 960\">\n",
              "    <path d=\"M120-120v-720h720v720H120Zm60-500h600v-160H180v160Zm220 220h160v-160H400v160Zm0 220h160v-160H400v160ZM180-400h160v-160H180v160Zm440 0h160v-160H620v160ZM180-180h160v-160H180v160Zm440 0h160v-160H620v160Z\"/>\n",
              "  </svg>\n",
              "    </button>\n",
              "\n",
              "  <style>\n",
              "    .colab-df-container {\n",
              "      display:flex;\n",
              "      gap: 12px;\n",
              "    }\n",
              "\n",
              "    .colab-df-convert {\n",
              "      background-color: #E8F0FE;\n",
              "      border: none;\n",
              "      border-radius: 50%;\n",
              "      cursor: pointer;\n",
              "      display: none;\n",
              "      fill: #1967D2;\n",
              "      height: 32px;\n",
              "      padding: 0 0 0 0;\n",
              "      width: 32px;\n",
              "    }\n",
              "\n",
              "    .colab-df-convert:hover {\n",
              "      background-color: #E2EBFA;\n",
              "      box-shadow: 0px 1px 2px rgba(60, 64, 67, 0.3), 0px 1px 3px 1px rgba(60, 64, 67, 0.15);\n",
              "      fill: #174EA6;\n",
              "    }\n",
              "\n",
              "    .colab-df-buttons div {\n",
              "      margin-bottom: 4px;\n",
              "    }\n",
              "\n",
              "    [theme=dark] .colab-df-convert {\n",
              "      background-color: #3B4455;\n",
              "      fill: #D2E3FC;\n",
              "    }\n",
              "\n",
              "    [theme=dark] .colab-df-convert:hover {\n",
              "      background-color: #434B5C;\n",
              "      box-shadow: 0px 1px 3px 1px rgba(0, 0, 0, 0.15);\n",
              "      filter: drop-shadow(0px 1px 2px rgba(0, 0, 0, 0.3));\n",
              "      fill: #FFFFFF;\n",
              "    }\n",
              "  </style>\n",
              "\n",
              "    <script>\n",
              "      const buttonEl =\n",
              "        document.querySelector('#df-41bb154f-4f68-4aa8-b710-21fc5e0954de button.colab-df-convert');\n",
              "      buttonEl.style.display =\n",
              "        google.colab.kernel.accessAllowed ? 'block' : 'none';\n",
              "\n",
              "      async function convertToInteractive(key) {\n",
              "        const element = document.querySelector('#df-41bb154f-4f68-4aa8-b710-21fc5e0954de');\n",
              "        const dataTable =\n",
              "          await google.colab.kernel.invokeFunction('convertToInteractive',\n",
              "                                                    [key], {});\n",
              "        if (!dataTable) return;\n",
              "\n",
              "        const docLinkHtml = 'Like what you see? Visit the ' +\n",
              "          '<a target=\"_blank\" href=https://colab.research.google.com/notebooks/data_table.ipynb>data table notebook</a>'\n",
              "          + ' to learn more about interactive tables.';\n",
              "        element.innerHTML = '';\n",
              "        dataTable['output_type'] = 'display_data';\n",
              "        await google.colab.output.renderOutput(dataTable, element);\n",
              "        const docLink = document.createElement('div');\n",
              "        docLink.innerHTML = docLinkHtml;\n",
              "        element.appendChild(docLink);\n",
              "      }\n",
              "    </script>\n",
              "  </div>\n",
              "\n",
              "\n",
              "<div id=\"df-93d181fa-5373-48cb-902a-5b857e6247df\">\n",
              "  <button class=\"colab-df-quickchart\" onclick=\"quickchart('df-93d181fa-5373-48cb-902a-5b857e6247df')\"\n",
              "            title=\"Suggest charts\"\n",
              "            style=\"display:none;\">\n",
              "\n",
              "<svg xmlns=\"http://www.w3.org/2000/svg\" height=\"24px\"viewBox=\"0 0 24 24\"\n",
              "     width=\"24px\">\n",
              "    <g>\n",
              "        <path d=\"M19 3H5c-1.1 0-2 .9-2 2v14c0 1.1.9 2 2 2h14c1.1 0 2-.9 2-2V5c0-1.1-.9-2-2-2zM9 17H7v-7h2v7zm4 0h-2V7h2v10zm4 0h-2v-4h2v4z\"/>\n",
              "    </g>\n",
              "</svg>\n",
              "  </button>\n",
              "\n",
              "<style>\n",
              "  .colab-df-quickchart {\n",
              "      --bg-color: #E8F0FE;\n",
              "      --fill-color: #1967D2;\n",
              "      --hover-bg-color: #E2EBFA;\n",
              "      --hover-fill-color: #174EA6;\n",
              "      --disabled-fill-color: #AAA;\n",
              "      --disabled-bg-color: #DDD;\n",
              "  }\n",
              "\n",
              "  [theme=dark] .colab-df-quickchart {\n",
              "      --bg-color: #3B4455;\n",
              "      --fill-color: #D2E3FC;\n",
              "      --hover-bg-color: #434B5C;\n",
              "      --hover-fill-color: #FFFFFF;\n",
              "      --disabled-bg-color: #3B4455;\n",
              "      --disabled-fill-color: #666;\n",
              "  }\n",
              "\n",
              "  .colab-df-quickchart {\n",
              "    background-color: var(--bg-color);\n",
              "    border: none;\n",
              "    border-radius: 50%;\n",
              "    cursor: pointer;\n",
              "    display: none;\n",
              "    fill: var(--fill-color);\n",
              "    height: 32px;\n",
              "    padding: 0;\n",
              "    width: 32px;\n",
              "  }\n",
              "\n",
              "  .colab-df-quickchart:hover {\n",
              "    background-color: var(--hover-bg-color);\n",
              "    box-shadow: 0 1px 2px rgba(60, 64, 67, 0.3), 0 1px 3px 1px rgba(60, 64, 67, 0.15);\n",
              "    fill: var(--button-hover-fill-color);\n",
              "  }\n",
              "\n",
              "  .colab-df-quickchart-complete:disabled,\n",
              "  .colab-df-quickchart-complete:disabled:hover {\n",
              "    background-color: var(--disabled-bg-color);\n",
              "    fill: var(--disabled-fill-color);\n",
              "    box-shadow: none;\n",
              "  }\n",
              "\n",
              "  .colab-df-spinner {\n",
              "    border: 2px solid var(--fill-color);\n",
              "    border-color: transparent;\n",
              "    border-bottom-color: var(--fill-color);\n",
              "    animation:\n",
              "      spin 1s steps(1) infinite;\n",
              "  }\n",
              "\n",
              "  @keyframes spin {\n",
              "    0% {\n",
              "      border-color: transparent;\n",
              "      border-bottom-color: var(--fill-color);\n",
              "      border-left-color: var(--fill-color);\n",
              "    }\n",
              "    20% {\n",
              "      border-color: transparent;\n",
              "      border-left-color: var(--fill-color);\n",
              "      border-top-color: var(--fill-color);\n",
              "    }\n",
              "    30% {\n",
              "      border-color: transparent;\n",
              "      border-left-color: var(--fill-color);\n",
              "      border-top-color: var(--fill-color);\n",
              "      border-right-color: var(--fill-color);\n",
              "    }\n",
              "    40% {\n",
              "      border-color: transparent;\n",
              "      border-right-color: var(--fill-color);\n",
              "      border-top-color: var(--fill-color);\n",
              "    }\n",
              "    60% {\n",
              "      border-color: transparent;\n",
              "      border-right-color: var(--fill-color);\n",
              "    }\n",
              "    80% {\n",
              "      border-color: transparent;\n",
              "      border-right-color: var(--fill-color);\n",
              "      border-bottom-color: var(--fill-color);\n",
              "    }\n",
              "    90% {\n",
              "      border-color: transparent;\n",
              "      border-bottom-color: var(--fill-color);\n",
              "    }\n",
              "  }\n",
              "</style>\n",
              "\n",
              "  <script>\n",
              "    async function quickchart(key) {\n",
              "      const quickchartButtonEl =\n",
              "        document.querySelector('#' + key + ' button');\n",
              "      quickchartButtonEl.disabled = true;  // To prevent multiple clicks.\n",
              "      quickchartButtonEl.classList.add('colab-df-spinner');\n",
              "      try {\n",
              "        const charts = await google.colab.kernel.invokeFunction(\n",
              "            'suggestCharts', [key], {});\n",
              "      } catch (error) {\n",
              "        console.error('Error during call to suggestCharts:', error);\n",
              "      }\n",
              "      quickchartButtonEl.classList.remove('colab-df-spinner');\n",
              "      quickchartButtonEl.classList.add('colab-df-quickchart-complete');\n",
              "    }\n",
              "    (() => {\n",
              "      let quickchartButtonEl =\n",
              "        document.querySelector('#df-93d181fa-5373-48cb-902a-5b857e6247df button');\n",
              "      quickchartButtonEl.style.display =\n",
              "        google.colab.kernel.accessAllowed ? 'block' : 'none';\n",
              "    })();\n",
              "  </script>\n",
              "</div>\n",
              "\n",
              "    </div>\n",
              "  </div>\n"
            ],
            "application/vnd.google.colaboratory.intrinsic+json": {
              "type": "dataframe",
              "summary": "{\n  \"name\": \"pd\",\n  \"rows\": 2,\n  \"fields\": [\n    {\n      \"column\": \"Churn\",\n      \"properties\": {\n        \"dtype\": \"string\",\n        \"num_unique_values\": 2,\n        \"samples\": [\n          \"Yes\",\n          \"No\"\n        ],\n        \"semantic_type\": \"\",\n        \"description\": \"\"\n      }\n    },\n    {\n      \"column\": \"Bank transfer (automatic)\",\n      \"properties\": {\n        \"dtype\": \"number\",\n        \"std\": 725,\n        \"min\": 258,\n        \"max\": 1284,\n        \"num_unique_values\": 2,\n        \"samples\": [\n          258,\n          1284\n        ],\n        \"semantic_type\": \"\",\n        \"description\": \"\"\n      }\n    },\n    {\n      \"column\": \"Credit card (automatic)\",\n      \"properties\": {\n        \"dtype\": \"number\",\n        \"std\": 747,\n        \"min\": 232,\n        \"max\": 1289,\n        \"num_unique_values\": 2,\n        \"samples\": [\n          232,\n          1289\n        ],\n        \"semantic_type\": \"\",\n        \"description\": \"\"\n      }\n    },\n    {\n      \"column\": \"Electronic check\",\n      \"properties\": {\n        \"dtype\": \"number\",\n        \"std\": 157,\n        \"min\": 1071,\n        \"max\": 1294,\n        \"num_unique_values\": 2,\n        \"samples\": [\n          1071,\n          1294\n        ],\n        \"semantic_type\": \"\",\n        \"description\": \"\"\n      }\n    },\n    {\n      \"column\": \"Mailed check\",\n      \"properties\": {\n        \"dtype\": \"number\",\n        \"std\": 698,\n        \"min\": 308,\n        \"max\": 1296,\n        \"num_unique_values\": 2,\n        \"samples\": [\n          308,\n          1296\n        ],\n        \"semantic_type\": \"\",\n        \"description\": \"\"\n      }\n    }\n  ]\n}"
            }
          },
          "metadata": {},
          "execution_count": 24
        }
      ]
    },
    {
      "cell_type": "markdown",
      "source": [
        "### Preprocessing"
      ],
      "metadata": {
        "id": "yT2s1JbAL0vo"
      }
    },
    {
      "cell_type": "code",
      "source": [
        "df.replace('No internet service','No',inplace=True)"
      ],
      "metadata": {
        "execution": {
          "iopub.status.busy": "2024-07-20T10:13:28.455669Z",
          "iopub.execute_input": "2024-07-20T10:13:28.456065Z",
          "iopub.status.idle": "2024-07-20T10:13:28.484689Z",
          "shell.execute_reply.started": "2024-07-20T10:13:28.456034Z",
          "shell.execute_reply": "2024-07-20T10:13:28.483420Z"
        },
        "trusted": true,
        "id": "8xQRlCKmL0vp"
      },
      "execution_count": 25,
      "outputs": []
    },
    {
      "cell_type": "code",
      "source": [
        "df.MultipleLines.value_counts()\n",
        "df.replace('No phone service','No',inplace=True)"
      ],
      "metadata": {
        "execution": {
          "iopub.status.busy": "2024-07-20T10:16:05.065113Z",
          "iopub.execute_input": "2024-07-20T10:16:05.065530Z",
          "iopub.status.idle": "2024-07-20T10:16:05.096374Z",
          "shell.execute_reply.started": "2024-07-20T10:16:05.065499Z",
          "shell.execute_reply": "2024-07-20T10:16:05.094618Z"
        },
        "trusted": true,
        "id": "N06JFT3LL0vp"
      },
      "execution_count": 26,
      "outputs": []
    },
    {
      "cell_type": "code",
      "source": [
        "for i in df.columns:\n",
        "    print(i,':',df[i].unique())"
      ],
      "metadata": {
        "execution": {
          "iopub.status.busy": "2024-07-20T10:21:09.812737Z",
          "iopub.execute_input": "2024-07-20T10:21:09.813197Z",
          "iopub.status.idle": "2024-07-20T10:21:09.834870Z",
          "shell.execute_reply.started": "2024-07-20T10:21:09.813165Z",
          "shell.execute_reply": "2024-07-20T10:21:09.833661Z"
        },
        "trusted": true,
        "colab": {
          "base_uri": "https://localhost:8080/"
        },
        "id": "_Qx5k5e0L0vq",
        "outputId": "7ba41cbf-0f81-4182-b245-f38e41eddf94"
      },
      "execution_count": 27,
      "outputs": [
        {
          "output_type": "stream",
          "name": "stdout",
          "text": [
            "gender : ['Female' 'Male']\n",
            "SeniorCitizen : [0 1]\n",
            "Partner : ['Yes' 'No']\n",
            "Dependents : ['No' 'Yes']\n",
            "tenure : [ 1 34  2 45  8 22 10 28 62 13 16 58 49 25 69 52 71 21 12 30 47 72 17 27\n",
            "  5 46 11 70 63 43 15 60 18 66  9  3 31 50 64 56  7 42 35 48 29 65 38 68\n",
            " 32 55 37 36 41  6  4 33 67 23 57 61 14 20 53 40 59 24 44 19 54 51 26 39]\n",
            "PhoneService : ['No' 'Yes']\n",
            "MultipleLines : ['No' 'Yes']\n",
            "InternetService : ['DSL' 'Fiber optic' 'No']\n",
            "OnlineSecurity : ['No' 'Yes']\n",
            "OnlineBackup : ['Yes' 'No']\n",
            "DeviceProtection : ['No' 'Yes']\n",
            "TechSupport : ['No' 'Yes']\n",
            "StreamingTV : ['No' 'Yes']\n",
            "StreamingMovies : ['No' 'Yes']\n",
            "Contract : ['Month-to-month' 'One year' 'Two year']\n",
            "PaperlessBilling : ['Yes' 'No']\n",
            "PaymentMethod : ['Electronic check' 'Mailed check' 'Bank transfer (automatic)'\n",
            " 'Credit card (automatic)']\n",
            "MonthlyCharges : [29.85 56.95 53.85 ... 63.1  44.2  78.7 ]\n",
            "TotalCharges : [  29.85 1889.5   108.15 ...  346.45  306.6  6844.5 ]\n",
            "Churn : ['No' 'Yes']\n"
          ]
        }
      ]
    },
    {
      "cell_type": "code",
      "source": [
        "df.gender = df.gender.replace({'Male':1,'Female':0})"
      ],
      "metadata": {
        "execution": {
          "iopub.status.busy": "2024-07-20T10:19:22.910456Z",
          "iopub.execute_input": "2024-07-20T10:19:22.911659Z",
          "iopub.status.idle": "2024-07-20T10:19:22.929526Z",
          "shell.execute_reply.started": "2024-07-20T10:19:22.911597Z",
          "shell.execute_reply": "2024-07-20T10:19:22.928184Z"
        },
        "trusted": true,
        "id": "GZouFa84L0vq"
      },
      "execution_count": 28,
      "outputs": []
    },
    {
      "cell_type": "code",
      "source": [
        "cat_cols = ['Partner','Dependents','PhoneService','MultipleLines','OnlineSecurity','OnlineBackup','DeviceProtection','TechSupport','StreamingTV','StreamingMovies','PaperlessBilling','Churn']"
      ],
      "metadata": {
        "execution": {
          "iopub.status.busy": "2024-07-20T10:23:07.214112Z",
          "iopub.execute_input": "2024-07-20T10:23:07.214513Z",
          "iopub.status.idle": "2024-07-20T10:23:07.220730Z",
          "shell.execute_reply.started": "2024-07-20T10:23:07.214482Z",
          "shell.execute_reply": "2024-07-20T10:23:07.219398Z"
        },
        "trusted": true,
        "id": "0RebKO2UL0vr"
      },
      "execution_count": 29,
      "outputs": []
    },
    {
      "cell_type": "code",
      "source": [
        "df[cat_cols] = df[cat_cols].replace({'Yes':1,'No':0})"
      ],
      "metadata": {
        "execution": {
          "iopub.status.busy": "2024-07-20T10:24:14.420491Z",
          "iopub.execute_input": "2024-07-20T10:24:14.420920Z",
          "iopub.status.idle": "2024-07-20T10:24:14.507504Z",
          "shell.execute_reply.started": "2024-07-20T10:24:14.420887Z",
          "shell.execute_reply": "2024-07-20T10:24:14.506243Z"
        },
        "trusted": true,
        "id": "AQ1bboUlL0vr"
      },
      "execution_count": 30,
      "outputs": []
    },
    {
      "cell_type": "code",
      "source": [
        "df = pd.get_dummies(df,drop_first=True,dtype='uint')"
      ],
      "metadata": {
        "execution": {
          "iopub.status.busy": "2024-07-20T10:25:00.372724Z",
          "iopub.execute_input": "2024-07-20T10:25:00.373168Z",
          "iopub.status.idle": "2024-07-20T10:25:00.390914Z",
          "shell.execute_reply.started": "2024-07-20T10:25:00.373135Z",
          "shell.execute_reply": "2024-07-20T10:25:00.389799Z"
        },
        "trusted": true,
        "id": "z45gRF0gL0vs"
      },
      "execution_count": 31,
      "outputs": []
    },
    {
      "cell_type": "code",
      "source": [
        "num_cols = ['tenure','MonthlyCharges','TotalCharges']"
      ],
      "metadata": {
        "execution": {
          "iopub.status.busy": "2024-07-20T10:26:18.385496Z",
          "iopub.execute_input": "2024-07-20T10:26:18.385916Z",
          "iopub.status.idle": "2024-07-20T10:26:18.392473Z",
          "shell.execute_reply.started": "2024-07-20T10:26:18.385884Z",
          "shell.execute_reply": "2024-07-20T10:26:18.390998Z"
        },
        "trusted": true,
        "id": "NS-T9BiLL0vs"
      },
      "execution_count": 32,
      "outputs": []
    },
    {
      "cell_type": "code",
      "source": [
        "from sklearn.preprocessing import MinMaxScaler  # Import MinMaxScaler\n",
        "mn = MinMaxScaler()\n",
        "df[num_cols] = mn.fit_transform(df[num_cols])"
      ],
      "metadata": {
        "execution": {
          "iopub.status.busy": "2024-07-20T10:28:39.200441Z",
          "iopub.execute_input": "2024-07-20T10:28:39.200844Z",
          "iopub.status.idle": "2024-07-20T10:28:39.212961Z",
          "shell.execute_reply.started": "2024-07-20T10:28:39.200813Z",
          "shell.execute_reply": "2024-07-20T10:28:39.211517Z"
        },
        "trusted": true,
        "id": "lPTwQRoxL0vt"
      },
      "execution_count": 34,
      "outputs": []
    },
    {
      "cell_type": "code",
      "source": [
        "df.sample(3)"
      ],
      "metadata": {
        "execution": {
          "iopub.status.busy": "2024-07-20T10:28:41.527439Z",
          "iopub.execute_input": "2024-07-20T10:28:41.527868Z",
          "iopub.status.idle": "2024-07-20T10:28:41.555946Z",
          "shell.execute_reply.started": "2024-07-20T10:28:41.527834Z",
          "shell.execute_reply": "2024-07-20T10:28:41.554823Z"
        },
        "trusted": true,
        "colab": {
          "base_uri": "https://localhost:8080/",
          "height": 210
        },
        "id": "TJSQ6fLjL0vt",
        "outputId": "bbe6f1ad-2719-49ce-b6a8-77b5998c18c1"
      },
      "execution_count": 35,
      "outputs": [
        {
          "output_type": "execute_result",
          "data": {
            "text/plain": [
              "      gender  SeniorCitizen  Partner  Dependents    tenure  PhoneService  \\\n",
              "776        0              0        1           1  0.028169             0   \n",
              "3379       0              0        0           0  0.014085             1   \n",
              "5555       0              0        1           1  0.971831             1   \n",
              "\n",
              "      MultipleLines  OnlineSecurity  OnlineBackup  DeviceProtection  ...  \\\n",
              "776               0               0             1                 0  ...   \n",
              "3379              0               0             0                 0  ...   \n",
              "5555              0               0             0                 0  ...   \n",
              "\n",
              "      MonthlyCharges  TotalCharges  Churn  InternetService_Fiber optic  \\\n",
              "776         0.219403      0.008505      0                            0   \n",
              "3379        0.010448      0.002954      0                            0   \n",
              "5555        0.015423      0.156929      0                            0   \n",
              "\n",
              "      InternetService_No  Contract_One year  Contract_Two year  \\\n",
              "776                    0                  0                  0   \n",
              "3379                   1                  0                  0   \n",
              "5555                   1                  0                  1   \n",
              "\n",
              "      PaymentMethod_Credit card (automatic)  PaymentMethod_Electronic check  \\\n",
              "776                                       0                               0   \n",
              "3379                                      0                               0   \n",
              "5555                                      0                               0   \n",
              "\n",
              "      PaymentMethod_Mailed check  \n",
              "776                            1  \n",
              "3379                           1  \n",
              "5555                           0  \n",
              "\n",
              "[3 rows x 24 columns]"
            ],
            "text/html": [
              "\n",
              "  <div id=\"df-6b794a08-94a0-45a4-af83-e5f3908dedd1\" class=\"colab-df-container\">\n",
              "    <div>\n",
              "<style scoped>\n",
              "    .dataframe tbody tr th:only-of-type {\n",
              "        vertical-align: middle;\n",
              "    }\n",
              "\n",
              "    .dataframe tbody tr th {\n",
              "        vertical-align: top;\n",
              "    }\n",
              "\n",
              "    .dataframe thead th {\n",
              "        text-align: right;\n",
              "    }\n",
              "</style>\n",
              "<table border=\"1\" class=\"dataframe\">\n",
              "  <thead>\n",
              "    <tr style=\"text-align: right;\">\n",
              "      <th></th>\n",
              "      <th>gender</th>\n",
              "      <th>SeniorCitizen</th>\n",
              "      <th>Partner</th>\n",
              "      <th>Dependents</th>\n",
              "      <th>tenure</th>\n",
              "      <th>PhoneService</th>\n",
              "      <th>MultipleLines</th>\n",
              "      <th>OnlineSecurity</th>\n",
              "      <th>OnlineBackup</th>\n",
              "      <th>DeviceProtection</th>\n",
              "      <th>...</th>\n",
              "      <th>MonthlyCharges</th>\n",
              "      <th>TotalCharges</th>\n",
              "      <th>Churn</th>\n",
              "      <th>InternetService_Fiber optic</th>\n",
              "      <th>InternetService_No</th>\n",
              "      <th>Contract_One year</th>\n",
              "      <th>Contract_Two year</th>\n",
              "      <th>PaymentMethod_Credit card (automatic)</th>\n",
              "      <th>PaymentMethod_Electronic check</th>\n",
              "      <th>PaymentMethod_Mailed check</th>\n",
              "    </tr>\n",
              "  </thead>\n",
              "  <tbody>\n",
              "    <tr>\n",
              "      <th>776</th>\n",
              "      <td>0</td>\n",
              "      <td>0</td>\n",
              "      <td>1</td>\n",
              "      <td>1</td>\n",
              "      <td>0.028169</td>\n",
              "      <td>0</td>\n",
              "      <td>0</td>\n",
              "      <td>0</td>\n",
              "      <td>1</td>\n",
              "      <td>0</td>\n",
              "      <td>...</td>\n",
              "      <td>0.219403</td>\n",
              "      <td>0.008505</td>\n",
              "      <td>0</td>\n",
              "      <td>0</td>\n",
              "      <td>0</td>\n",
              "      <td>0</td>\n",
              "      <td>0</td>\n",
              "      <td>0</td>\n",
              "      <td>0</td>\n",
              "      <td>1</td>\n",
              "    </tr>\n",
              "    <tr>\n",
              "      <th>3379</th>\n",
              "      <td>0</td>\n",
              "      <td>0</td>\n",
              "      <td>0</td>\n",
              "      <td>0</td>\n",
              "      <td>0.014085</td>\n",
              "      <td>1</td>\n",
              "      <td>0</td>\n",
              "      <td>0</td>\n",
              "      <td>0</td>\n",
              "      <td>0</td>\n",
              "      <td>...</td>\n",
              "      <td>0.010448</td>\n",
              "      <td>0.002954</td>\n",
              "      <td>0</td>\n",
              "      <td>0</td>\n",
              "      <td>1</td>\n",
              "      <td>0</td>\n",
              "      <td>0</td>\n",
              "      <td>0</td>\n",
              "      <td>0</td>\n",
              "      <td>1</td>\n",
              "    </tr>\n",
              "    <tr>\n",
              "      <th>5555</th>\n",
              "      <td>0</td>\n",
              "      <td>0</td>\n",
              "      <td>1</td>\n",
              "      <td>1</td>\n",
              "      <td>0.971831</td>\n",
              "      <td>1</td>\n",
              "      <td>0</td>\n",
              "      <td>0</td>\n",
              "      <td>0</td>\n",
              "      <td>0</td>\n",
              "      <td>...</td>\n",
              "      <td>0.015423</td>\n",
              "      <td>0.156929</td>\n",
              "      <td>0</td>\n",
              "      <td>0</td>\n",
              "      <td>1</td>\n",
              "      <td>0</td>\n",
              "      <td>1</td>\n",
              "      <td>0</td>\n",
              "      <td>0</td>\n",
              "      <td>0</td>\n",
              "    </tr>\n",
              "  </tbody>\n",
              "</table>\n",
              "<p>3 rows × 24 columns</p>\n",
              "</div>\n",
              "    <div class=\"colab-df-buttons\">\n",
              "\n",
              "  <div class=\"colab-df-container\">\n",
              "    <button class=\"colab-df-convert\" onclick=\"convertToInteractive('df-6b794a08-94a0-45a4-af83-e5f3908dedd1')\"\n",
              "            title=\"Convert this dataframe to an interactive table.\"\n",
              "            style=\"display:none;\">\n",
              "\n",
              "  <svg xmlns=\"http://www.w3.org/2000/svg\" height=\"24px\" viewBox=\"0 -960 960 960\">\n",
              "    <path d=\"M120-120v-720h720v720H120Zm60-500h600v-160H180v160Zm220 220h160v-160H400v160Zm0 220h160v-160H400v160ZM180-400h160v-160H180v160Zm440 0h160v-160H620v160ZM180-180h160v-160H180v160Zm440 0h160v-160H620v160Z\"/>\n",
              "  </svg>\n",
              "    </button>\n",
              "\n",
              "  <style>\n",
              "    .colab-df-container {\n",
              "      display:flex;\n",
              "      gap: 12px;\n",
              "    }\n",
              "\n",
              "    .colab-df-convert {\n",
              "      background-color: #E8F0FE;\n",
              "      border: none;\n",
              "      border-radius: 50%;\n",
              "      cursor: pointer;\n",
              "      display: none;\n",
              "      fill: #1967D2;\n",
              "      height: 32px;\n",
              "      padding: 0 0 0 0;\n",
              "      width: 32px;\n",
              "    }\n",
              "\n",
              "    .colab-df-convert:hover {\n",
              "      background-color: #E2EBFA;\n",
              "      box-shadow: 0px 1px 2px rgba(60, 64, 67, 0.3), 0px 1px 3px 1px rgba(60, 64, 67, 0.15);\n",
              "      fill: #174EA6;\n",
              "    }\n",
              "\n",
              "    .colab-df-buttons div {\n",
              "      margin-bottom: 4px;\n",
              "    }\n",
              "\n",
              "    [theme=dark] .colab-df-convert {\n",
              "      background-color: #3B4455;\n",
              "      fill: #D2E3FC;\n",
              "    }\n",
              "\n",
              "    [theme=dark] .colab-df-convert:hover {\n",
              "      background-color: #434B5C;\n",
              "      box-shadow: 0px 1px 3px 1px rgba(0, 0, 0, 0.15);\n",
              "      filter: drop-shadow(0px 1px 2px rgba(0, 0, 0, 0.3));\n",
              "      fill: #FFFFFF;\n",
              "    }\n",
              "  </style>\n",
              "\n",
              "    <script>\n",
              "      const buttonEl =\n",
              "        document.querySelector('#df-6b794a08-94a0-45a4-af83-e5f3908dedd1 button.colab-df-convert');\n",
              "      buttonEl.style.display =\n",
              "        google.colab.kernel.accessAllowed ? 'block' : 'none';\n",
              "\n",
              "      async function convertToInteractive(key) {\n",
              "        const element = document.querySelector('#df-6b794a08-94a0-45a4-af83-e5f3908dedd1');\n",
              "        const dataTable =\n",
              "          await google.colab.kernel.invokeFunction('convertToInteractive',\n",
              "                                                    [key], {});\n",
              "        if (!dataTable) return;\n",
              "\n",
              "        const docLinkHtml = 'Like what you see? Visit the ' +\n",
              "          '<a target=\"_blank\" href=https://colab.research.google.com/notebooks/data_table.ipynb>data table notebook</a>'\n",
              "          + ' to learn more about interactive tables.';\n",
              "        element.innerHTML = '';\n",
              "        dataTable['output_type'] = 'display_data';\n",
              "        await google.colab.output.renderOutput(dataTable, element);\n",
              "        const docLink = document.createElement('div');\n",
              "        docLink.innerHTML = docLinkHtml;\n",
              "        element.appendChild(docLink);\n",
              "      }\n",
              "    </script>\n",
              "  </div>\n",
              "\n",
              "\n",
              "<div id=\"df-03c84c7f-b292-4ff0-aae4-bab261a4aa23\">\n",
              "  <button class=\"colab-df-quickchart\" onclick=\"quickchart('df-03c84c7f-b292-4ff0-aae4-bab261a4aa23')\"\n",
              "            title=\"Suggest charts\"\n",
              "            style=\"display:none;\">\n",
              "\n",
              "<svg xmlns=\"http://www.w3.org/2000/svg\" height=\"24px\"viewBox=\"0 0 24 24\"\n",
              "     width=\"24px\">\n",
              "    <g>\n",
              "        <path d=\"M19 3H5c-1.1 0-2 .9-2 2v14c0 1.1.9 2 2 2h14c1.1 0 2-.9 2-2V5c0-1.1-.9-2-2-2zM9 17H7v-7h2v7zm4 0h-2V7h2v10zm4 0h-2v-4h2v4z\"/>\n",
              "    </g>\n",
              "</svg>\n",
              "  </button>\n",
              "\n",
              "<style>\n",
              "  .colab-df-quickchart {\n",
              "      --bg-color: #E8F0FE;\n",
              "      --fill-color: #1967D2;\n",
              "      --hover-bg-color: #E2EBFA;\n",
              "      --hover-fill-color: #174EA6;\n",
              "      --disabled-fill-color: #AAA;\n",
              "      --disabled-bg-color: #DDD;\n",
              "  }\n",
              "\n",
              "  [theme=dark] .colab-df-quickchart {\n",
              "      --bg-color: #3B4455;\n",
              "      --fill-color: #D2E3FC;\n",
              "      --hover-bg-color: #434B5C;\n",
              "      --hover-fill-color: #FFFFFF;\n",
              "      --disabled-bg-color: #3B4455;\n",
              "      --disabled-fill-color: #666;\n",
              "  }\n",
              "\n",
              "  .colab-df-quickchart {\n",
              "    background-color: var(--bg-color);\n",
              "    border: none;\n",
              "    border-radius: 50%;\n",
              "    cursor: pointer;\n",
              "    display: none;\n",
              "    fill: var(--fill-color);\n",
              "    height: 32px;\n",
              "    padding: 0;\n",
              "    width: 32px;\n",
              "  }\n",
              "\n",
              "  .colab-df-quickchart:hover {\n",
              "    background-color: var(--hover-bg-color);\n",
              "    box-shadow: 0 1px 2px rgba(60, 64, 67, 0.3), 0 1px 3px 1px rgba(60, 64, 67, 0.15);\n",
              "    fill: var(--button-hover-fill-color);\n",
              "  }\n",
              "\n",
              "  .colab-df-quickchart-complete:disabled,\n",
              "  .colab-df-quickchart-complete:disabled:hover {\n",
              "    background-color: var(--disabled-bg-color);\n",
              "    fill: var(--disabled-fill-color);\n",
              "    box-shadow: none;\n",
              "  }\n",
              "\n",
              "  .colab-df-spinner {\n",
              "    border: 2px solid var(--fill-color);\n",
              "    border-color: transparent;\n",
              "    border-bottom-color: var(--fill-color);\n",
              "    animation:\n",
              "      spin 1s steps(1) infinite;\n",
              "  }\n",
              "\n",
              "  @keyframes spin {\n",
              "    0% {\n",
              "      border-color: transparent;\n",
              "      border-bottom-color: var(--fill-color);\n",
              "      border-left-color: var(--fill-color);\n",
              "    }\n",
              "    20% {\n",
              "      border-color: transparent;\n",
              "      border-left-color: var(--fill-color);\n",
              "      border-top-color: var(--fill-color);\n",
              "    }\n",
              "    30% {\n",
              "      border-color: transparent;\n",
              "      border-left-color: var(--fill-color);\n",
              "      border-top-color: var(--fill-color);\n",
              "      border-right-color: var(--fill-color);\n",
              "    }\n",
              "    40% {\n",
              "      border-color: transparent;\n",
              "      border-right-color: var(--fill-color);\n",
              "      border-top-color: var(--fill-color);\n",
              "    }\n",
              "    60% {\n",
              "      border-color: transparent;\n",
              "      border-right-color: var(--fill-color);\n",
              "    }\n",
              "    80% {\n",
              "      border-color: transparent;\n",
              "      border-right-color: var(--fill-color);\n",
              "      border-bottom-color: var(--fill-color);\n",
              "    }\n",
              "    90% {\n",
              "      border-color: transparent;\n",
              "      border-bottom-color: var(--fill-color);\n",
              "    }\n",
              "  }\n",
              "</style>\n",
              "\n",
              "  <script>\n",
              "    async function quickchart(key) {\n",
              "      const quickchartButtonEl =\n",
              "        document.querySelector('#' + key + ' button');\n",
              "      quickchartButtonEl.disabled = true;  // To prevent multiple clicks.\n",
              "      quickchartButtonEl.classList.add('colab-df-spinner');\n",
              "      try {\n",
              "        const charts = await google.colab.kernel.invokeFunction(\n",
              "            'suggestCharts', [key], {});\n",
              "      } catch (error) {\n",
              "        console.error('Error during call to suggestCharts:', error);\n",
              "      }\n",
              "      quickchartButtonEl.classList.remove('colab-df-spinner');\n",
              "      quickchartButtonEl.classList.add('colab-df-quickchart-complete');\n",
              "    }\n",
              "    (() => {\n",
              "      let quickchartButtonEl =\n",
              "        document.querySelector('#df-03c84c7f-b292-4ff0-aae4-bab261a4aa23 button');\n",
              "      quickchartButtonEl.style.display =\n",
              "        google.colab.kernel.accessAllowed ? 'block' : 'none';\n",
              "    })();\n",
              "  </script>\n",
              "</div>\n",
              "\n",
              "    </div>\n",
              "  </div>\n"
            ],
            "application/vnd.google.colaboratory.intrinsic+json": {
              "type": "dataframe"
            }
          },
          "metadata": {},
          "execution_count": 35
        }
      ]
    },
    {
      "cell_type": "markdown",
      "source": [
        "### Modelling"
      ],
      "metadata": {
        "id": "rhze3-bdL0vu"
      }
    },
    {
      "cell_type": "code",
      "source": [
        "X = df.drop('Churn',axis=1)\n",
        "y = df.Churn"
      ],
      "metadata": {
        "execution": {
          "iopub.status.busy": "2024-07-20T10:32:37.364946Z",
          "iopub.execute_input": "2024-07-20T10:32:37.365430Z",
          "iopub.status.idle": "2024-07-20T10:32:37.373983Z",
          "shell.execute_reply.started": "2024-07-20T10:32:37.365396Z",
          "shell.execute_reply": "2024-07-20T10:32:37.372703Z"
        },
        "trusted": true,
        "id": "UmCDDIXoL0vu"
      },
      "execution_count": 36,
      "outputs": []
    },
    {
      "cell_type": "code",
      "source": [
        "from sklearn.model_selection import train_test_split\n",
        "X_train, X_test, y_train, y_test = train_test_split(X,y,test_size=0.2)"
      ],
      "metadata": {
        "execution": {
          "iopub.status.busy": "2024-07-20T10:32:51.613328Z",
          "iopub.execute_input": "2024-07-20T10:32:51.613715Z",
          "iopub.status.idle": "2024-07-20T10:32:51.623830Z",
          "shell.execute_reply.started": "2024-07-20T10:32:51.613686Z",
          "shell.execute_reply": "2024-07-20T10:32:51.622538Z"
        },
        "trusted": true,
        "id": "Gae-lrKFL0vu"
      },
      "execution_count": 38,
      "outputs": []
    },
    {
      "cell_type": "code",
      "source": [
        "import keras\n",
        "model = keras.Sequential()"
      ],
      "metadata": {
        "execution": {
          "iopub.status.busy": "2024-07-20T10:51:37.719324Z",
          "iopub.execute_input": "2024-07-20T10:51:37.719758Z",
          "iopub.status.idle": "2024-07-20T10:51:37.727386Z",
          "shell.execute_reply.started": "2024-07-20T10:51:37.719722Z",
          "shell.execute_reply": "2024-07-20T10:51:37.725977Z"
        },
        "trusted": true,
        "id": "V8BbG9zhL0vv"
      },
      "execution_count": 40,
      "outputs": []
    },
    {
      "cell_type": "code",
      "source": [
        "X_train.shape"
      ],
      "metadata": {
        "execution": {
          "iopub.status.busy": "2024-07-20T10:51:38.081075Z",
          "iopub.execute_input": "2024-07-20T10:51:38.081497Z",
          "iopub.status.idle": "2024-07-20T10:51:38.089572Z",
          "shell.execute_reply.started": "2024-07-20T10:51:38.081464Z",
          "shell.execute_reply": "2024-07-20T10:51:38.088289Z"
        },
        "trusted": true,
        "colab": {
          "base_uri": "https://localhost:8080/"
        },
        "id": "OdnkOcS_L0v1",
        "outputId": "e4b3fdee-26d0-4a53-f20b-4bffbcbcf592"
      },
      "execution_count": 41,
      "outputs": [
        {
          "output_type": "execute_result",
          "data": {
            "text/plain": [
              "(5625, 23)"
            ]
          },
          "metadata": {},
          "execution_count": 41
        }
      ]
    },
    {
      "cell_type": "code",
      "source": [
        "model.add(\n",
        "keras.layers.Dense(30,input_shape=(23,),activation='relu'))\n",
        "model.add(\n",
        "keras.layers.Dense(10,activation='relu'))\n",
        "model.add(\n",
        "keras.layers.Dense(1,activation='sigmoid')\n",
        ")"
      ],
      "metadata": {
        "execution": {
          "iopub.status.busy": "2024-07-20T10:51:38.608648Z",
          "iopub.execute_input": "2024-07-20T10:51:38.609145Z",
          "iopub.status.idle": "2024-07-20T10:51:38.657346Z",
          "shell.execute_reply.started": "2024-07-20T10:51:38.609107Z",
          "shell.execute_reply": "2024-07-20T10:51:38.656023Z"
        },
        "trusted": true,
        "id": "9smfSrF9L0v2"
      },
      "execution_count": 42,
      "outputs": []
    },
    {
      "cell_type": "code",
      "source": [
        "model.summary()"
      ],
      "metadata": {
        "execution": {
          "iopub.status.busy": "2024-07-20T10:51:38.931572Z",
          "iopub.execute_input": "2024-07-20T10:51:38.931997Z",
          "iopub.status.idle": "2024-07-20T10:51:38.954327Z",
          "shell.execute_reply.started": "2024-07-20T10:51:38.931963Z",
          "shell.execute_reply": "2024-07-20T10:51:38.953243Z"
        },
        "trusted": true,
        "colab": {
          "base_uri": "https://localhost:8080/"
        },
        "id": "ub_XGtM1L0v2",
        "outputId": "074a157b-0488-4cac-ff79-9476caacb679"
      },
      "execution_count": 46,
      "outputs": [
        {
          "output_type": "stream",
          "name": "stdout",
          "text": [
            "Model: \"sequential\"\n",
            "_________________________________________________________________\n",
            " Layer (type)                Output Shape              Param #   \n",
            "=================================================================\n",
            " dense (Dense)               (None, 30)                720       \n",
            "                                                                 \n",
            " dense_1 (Dense)             (None, 10)                310       \n",
            "                                                                 \n",
            " dense_2 (Dense)             (None, 1)                 11        \n",
            "                                                                 \n",
            "=================================================================\n",
            "Total params: 1041 (4.07 KB)\n",
            "Trainable params: 1041 (4.07 KB)\n",
            "Non-trainable params: 0 (0.00 Byte)\n",
            "_________________________________________________________________\n"
          ]
        }
      ]
    },
    {
      "cell_type": "code",
      "source": [
        "callbacks = keras.callbacks.EarlyStopping(min_delta=0.001,patience = 3)\n"
      ],
      "metadata": {
        "execution": {
          "iopub.status.busy": "2024-07-20T10:51:39.235631Z",
          "iopub.execute_input": "2024-07-20T10:51:39.236057Z",
          "iopub.status.idle": "2024-07-20T10:51:39.242563Z",
          "shell.execute_reply.started": "2024-07-20T10:51:39.236024Z",
          "shell.execute_reply": "2024-07-20T10:51:39.241229Z"
        },
        "trusted": true,
        "id": "ndnFOxmFL0v2"
      },
      "execution_count": 43,
      "outputs": []
    },
    {
      "cell_type": "code",
      "source": [
        "model.compile(optimizer='adam',loss='binary_crossentropy',metrics=[ keras.metrics.BinaryAccuracy()])"
      ],
      "metadata": {
        "execution": {
          "iopub.status.busy": "2024-07-20T10:51:39.617100Z",
          "iopub.execute_input": "2024-07-20T10:51:39.617508Z",
          "iopub.status.idle": "2024-07-20T10:51:39.632657Z",
          "shell.execute_reply.started": "2024-07-20T10:51:39.617477Z",
          "shell.execute_reply": "2024-07-20T10:51:39.631326Z"
        },
        "trusted": true,
        "id": "1Kxh8SjrL0v3"
      },
      "execution_count": 47,
      "outputs": []
    },
    {
      "cell_type": "code",
      "source": [
        "model.fit(x=X_train,y=y_train,batch_size=120,epochs=60,callbacks=[callbacks],validation_data=(X_test,y_test))"
      ],
      "metadata": {
        "execution": {
          "iopub.status.busy": "2024-07-20T10:51:39.987391Z",
          "iopub.execute_input": "2024-07-20T10:51:39.987850Z",
          "iopub.status.idle": "2024-07-20T10:51:43.526558Z",
          "shell.execute_reply.started": "2024-07-20T10:51:39.987809Z",
          "shell.execute_reply": "2024-07-20T10:51:43.525190Z"
        },
        "trusted": true,
        "colab": {
          "base_uri": "https://localhost:8080/"
        },
        "id": "_e4Vr8XCL0v3",
        "outputId": "55d2e45f-baa7-4874-9304-d928481138ac"
      },
      "execution_count": 48,
      "outputs": [
        {
          "output_type": "stream",
          "name": "stdout",
          "text": [
            "Epoch 1/60\n",
            "47/47 [==============================] - 2s 12ms/step - loss: 0.5917 - binary_accuracy: 0.6928 - val_loss: 0.5294 - val_binary_accuracy: 0.7235\n",
            "Epoch 2/60\n",
            "47/47 [==============================] - 0s 5ms/step - loss: 0.4821 - binary_accuracy: 0.7575 - val_loss: 0.4584 - val_binary_accuracy: 0.7811\n",
            "Epoch 3/60\n",
            "47/47 [==============================] - 0s 6ms/step - loss: 0.4420 - binary_accuracy: 0.7877 - val_loss: 0.4378 - val_binary_accuracy: 0.7875\n",
            "Epoch 4/60\n",
            "47/47 [==============================] - 0s 6ms/step - loss: 0.4315 - binary_accuracy: 0.7899 - val_loss: 0.4337 - val_binary_accuracy: 0.7974\n",
            "Epoch 5/60\n",
            "47/47 [==============================] - 0s 3ms/step - loss: 0.4270 - binary_accuracy: 0.7922 - val_loss: 0.4298 - val_binary_accuracy: 0.8045\n",
            "Epoch 6/60\n",
            "47/47 [==============================] - 0s 3ms/step - loss: 0.4239 - binary_accuracy: 0.7950 - val_loss: 0.4281 - val_binary_accuracy: 0.8045\n",
            "Epoch 7/60\n",
            "47/47 [==============================] - 0s 3ms/step - loss: 0.4220 - binary_accuracy: 0.7979 - val_loss: 0.4280 - val_binary_accuracy: 0.8088\n",
            "Epoch 8/60\n",
            "47/47 [==============================] - 0s 3ms/step - loss: 0.4213 - binary_accuracy: 0.8007 - val_loss: 0.4265 - val_binary_accuracy: 0.8081\n",
            "Epoch 9/60\n",
            "47/47 [==============================] - 0s 3ms/step - loss: 0.4191 - binary_accuracy: 0.8023 - val_loss: 0.4254 - val_binary_accuracy: 0.8074\n",
            "Epoch 10/60\n",
            "47/47 [==============================] - 0s 4ms/step - loss: 0.4180 - binary_accuracy: 0.7989 - val_loss: 0.4248 - val_binary_accuracy: 0.8117\n",
            "Epoch 11/60\n",
            "47/47 [==============================] - 0s 3ms/step - loss: 0.4163 - binary_accuracy: 0.8039 - val_loss: 0.4228 - val_binary_accuracy: 0.8095\n",
            "Epoch 12/60\n",
            "47/47 [==============================] - 0s 3ms/step - loss: 0.4156 - binary_accuracy: 0.8037 - val_loss: 0.4246 - val_binary_accuracy: 0.8088\n",
            "Epoch 13/60\n",
            "47/47 [==============================] - 0s 3ms/step - loss: 0.4142 - binary_accuracy: 0.8060 - val_loss: 0.4236 - val_binary_accuracy: 0.8095\n",
            "Epoch 14/60\n",
            "47/47 [==============================] - 0s 3ms/step - loss: 0.4130 - binary_accuracy: 0.8064 - val_loss: 0.4223 - val_binary_accuracy: 0.8060\n"
          ]
        },
        {
          "output_type": "execute_result",
          "data": {
            "text/plain": [
              "<keras.src.callbacks.History at 0x7f51b3f5b940>"
            ]
          },
          "metadata": {},
          "execution_count": 48
        }
      ]
    },
    {
      "cell_type": "code",
      "source": [
        "history = pd.DataFrame(model.history.history)"
      ],
      "metadata": {
        "execution": {
          "iopub.status.busy": "2024-07-20T10:51:43.528852Z",
          "iopub.execute_input": "2024-07-20T10:51:43.529256Z",
          "iopub.status.idle": "2024-07-20T10:51:43.535485Z",
          "shell.execute_reply.started": "2024-07-20T10:51:43.529223Z",
          "shell.execute_reply": "2024-07-20T10:51:43.534062Z"
        },
        "trusted": true,
        "id": "YlDHAru1L0v3"
      },
      "execution_count": 49,
      "outputs": []
    },
    {
      "cell_type": "code",
      "source": [
        "history[['binary_accuracy','val_binary_accuracy']].plot()"
      ],
      "metadata": {
        "execution": {
          "iopub.status.busy": "2024-07-20T10:51:43.537154Z",
          "iopub.execute_input": "2024-07-20T10:51:43.538354Z",
          "iopub.status.idle": "2024-07-20T10:51:43.872087Z",
          "shell.execute_reply.started": "2024-07-20T10:51:43.538284Z",
          "shell.execute_reply": "2024-07-20T10:51:43.870855Z"
        },
        "trusted": true,
        "colab": {
          "base_uri": "https://localhost:8080/",
          "height": 448
        },
        "id": "HaLoGqZOL0v3",
        "outputId": "ed3a72f9-ba7d-488f-c829-fda37f2bae8d"
      },
      "execution_count": 50,
      "outputs": [
        {
          "output_type": "execute_result",
          "data": {
            "text/plain": [
              "<Axes: >"
            ]
          },
          "metadata": {},
          "execution_count": 50
        },
        {
          "output_type": "display_data",
          "data": {
            "text/plain": [
              "<Figure size 640x480 with 1 Axes>"
            ],
            "image/png": "[encoded data removed]"
          },
          "metadata": {}
        }
      ]
    },
    {
      "cell_type": "code",
      "source": [
        "history[['loss','val_loss']].plot()"
      ],
      "metadata": {
        "execution": {
          "iopub.status.busy": "2024-07-20T10:51:48.442249Z",
          "iopub.execute_input": "2024-07-20T10:51:48.442670Z",
          "iopub.status.idle": "2024-07-20T10:51:48.714347Z",
          "shell.execute_reply.started": "2024-07-20T10:51:48.442638Z",
          "shell.execute_reply": "2024-07-20T10:51:48.712925Z"
        },
        "trusted": true,
        "colab": {
          "base_uri": "https://localhost:8080/",
          "height": 452
        },
        "id": "JJbzW8U2L0v4",
        "outputId": "0288e227-8d11-4310-9510-8777a2e0296b"
      },
      "execution_count": 51,
      "outputs": [
        {
          "output_type": "execute_result",
          "data": {
            "text/plain": [
              "<Axes: >"
            ]
          },
          "metadata": {},
          "execution_count": 51
        },
        {
          "output_type": "display_data",
          "data": {
            "text/plain": [
              "<Figure size 640x480 with 1 Axes>"
            ],
            "image/png": "[encoded data removed]"
          },
          "metadata": {}
        }
      ]
    },
    {
      "cell_type": "markdown",
      "source": [
        "### Inferencing.."
      ],
      "metadata": {
        "id": "VZm3q44-L0v4"
      }
    },
    {
      "cell_type": "code",
      "source": [
        "model.layers"
      ],
      "metadata": {
        "execution": {
          "iopub.status.busy": "2024-07-20T10:55:21.185171Z",
          "iopub.execute_input": "2024-07-20T10:55:21.185614Z",
          "iopub.status.idle": "2024-07-20T10:55:21.193398Z",
          "shell.execute_reply.started": "2024-07-20T10:55:21.185581Z",
          "shell.execute_reply": "2024-07-20T10:55:21.192200Z"
        },
        "trusted": true,
        "colab": {
          "base_uri": "https://localhost:8080/"
        },
        "id": "NFlsaViaL0v4",
        "outputId": "083401cf-a35d-4f20-a864-54af809a2baa"
      },
      "execution_count": 52,
      "outputs": [
        {
          "output_type": "execute_result",
          "data": {
            "text/plain": [
              "[<keras.src.layers.core.dense.Dense at 0x7f51ba2c2d10>,\n",
              " <keras.src.layers.core.dense.Dense at 0x7f51ba2c3d00>,\n",
              " <keras.src.layers.core.dense.Dense at 0x7f51ba1cc940>]"
            ]
          },
          "metadata": {},
          "execution_count": 52
        }
      ]
    },
    {
      "cell_type": "code",
      "source": [
        "model.weights"
      ],
      "metadata": {
        "execution": {
          "iopub.status.busy": "2024-07-20T10:55:28.372102Z",
          "iopub.execute_input": "2024-07-20T10:55:28.372514Z",
          "iopub.status.idle": "2024-07-20T10:55:28.382436Z",
          "shell.execute_reply.started": "2024-07-20T10:55:28.372481Z",
          "shell.execute_reply": "2024-07-20T10:55:28.381107Z"
        },
        "trusted": true,
        "colab": {
          "base_uri": "https://localhost:8080/"
        },
        "id": "fkPMiqF6L0v4",
        "outputId": "f50e61f2-6fd3-45da-ef4a-461da9b120c9"
      },
      "execution_count": 53,
      "outputs": [
        {
          "output_type": "execute_result",
          "data": {
            "text/plain": [
              "[<tf.Variable 'dense/kernel:0' shape=(23, 30) dtype=float32, numpy=\n",
              " array([[ 1.97177470e-01,  4.67629246e-02,  1.67610735e-01,\n",
              "          8.21721926e-02, -1.79667532e-01, -1.31325185e-01,\n",
              "         -1.79389626e-01,  2.48867333e-01, -1.07715808e-01,\n",
              "         -5.90426102e-02, -1.35218158e-01,  2.16457188e-01,\n",
              "         -9.14817862e-03, -7.95574263e-02, -7.72871897e-02,\n",
              "          3.10364276e-01,  3.01197767e-01,  8.04644153e-02,\n",
              "          2.96189457e-01, -2.51347721e-01,  2.67309770e-02,\n",
              "         -2.51627505e-01, -6.41917661e-02, -2.17035621e-01,\n",
              "          2.22797036e-01, -1.46313712e-01,  2.13191703e-01,\n",
              "          2.34713301e-01,  1.12968914e-01, -1.05297133e-01],\n",
              "        [-1.33319035e-01,  3.19451839e-01, -1.66867673e-01,\n",
              "         -1.39025211e-01, -1.42815337e-01,  2.13206187e-01,\n",
              "          2.61147588e-01, -2.65637517e-01, -2.57412285e-01,\n",
              "         -9.91398841e-02, -1.43537030e-01,  3.53336424e-01,\n",
              "         -9.04429406e-02, -1.62757039e-01,  1.60588905e-01,\n",
              "          1.86610922e-01, -1.36807576e-01,  1.14632227e-01,\n",
              "          1.16861962e-01, -3.78000103e-02, -1.79062024e-01,\n",
              "          2.23975867e-01, -2.30183154e-02, -1.58787683e-01,\n",
              "          1.39525473e-01, -1.24801612e-02,  6.45115599e-02,\n",
              "         -2.12302104e-01, -1.00487530e-01,  2.76346713e-01],\n",
              "        [-1.85666129e-03, -1.17717721e-01,  2.16985926e-01,\n",
              "         -2.73583531e-01,  3.44665259e-01,  1.37025267e-01,\n",
              "         -1.45112440e-01, -6.53228536e-02,  3.15007716e-01,\n",
              "         -1.13106050e-01,  1.61104515e-01, -2.08498195e-01,\n",
              "         -2.75682807e-01,  2.50920445e-01,  1.91628501e-01,\n",
              "         -2.09659308e-01, -1.67498276e-01,  9.47210789e-02,\n",
              "         -9.08793211e-02,  2.58624971e-01, -1.43034697e-01,\n",
              "          2.95603485e-03, -1.41246036e-01,  2.25815251e-01,\n",
              "         -5.01714908e-02, -3.83839719e-02, -4.70293090e-02,\n",
              "         -7.91363195e-02, -4.79338632e-06, -7.69892037e-02],\n",
              "        [-8.92672688e-02,  3.35085280e-02,  1.45520985e-01,\n",
              "         -2.28997305e-01, -2.29331478e-01,  2.58418061e-02,\n",
              "          8.46916139e-02, -6.54907972e-02,  2.88995296e-01,\n",
              "          1.36773050e-01, -1.48553208e-01,  2.95118153e-01,\n",
              "          8.50315690e-02,  1.09129854e-01,  5.84994033e-02,\n",
              "          2.99593396e-02, -1.17251217e-01, -2.96256304e-01,\n",
              "         -8.73210877e-02, -1.49826214e-01, -2.64263690e-01,\n",
              "         -1.91377282e-01, -1.33900225e-01,  2.41325572e-02,\n",
              "         -2.54454285e-01, -1.49836868e-01, -5.65453246e-02,\n",
              "         -1.62065044e-01,  3.87035534e-02, -1.03358358e-01],\n",
              "        [ 5.42464741e-02, -4.78758067e-01,  4.67884064e-01,\n",
              "         -3.24910991e-02, -2.06820488e-01,  2.06480771e-02,\n",
              "          1.65035725e-01,  4.24458504e-01, -5.65734543e-02,\n",
              "          4.63000268e-01, -1.02548189e-01, -3.76743257e-01,\n",
              "         -8.88469443e-02,  3.65664154e-01,  2.49557987e-01,\n",
              "          5.65638691e-02, -4.66542430e-02, -1.24565914e-01,\n",
              "          3.94175291e-01,  2.27461681e-01,  7.78587162e-02,\n",
              "          1.55462936e-01,  1.16312981e-01, -9.01990905e-02,\n",
              "          3.24079990e-01,  5.07721961e-01,  2.58159731e-02,\n",
              "         -6.20856166e-01,  1.45582244e-01,  9.12600383e-02],\n",
              "        [ 1.51716769e-01,  2.36994773e-01, -8.21014941e-02,\n",
              "         -2.15008274e-01, -2.55863607e-01,  2.74150193e-01,\n",
              "         -7.60435984e-02,  3.69036973e-01,  4.53006066e-02,\n",
              "          2.74831653e-01,  3.13961357e-01,  7.17862335e-04,\n",
              "         -1.83771074e-01, -8.62517394e-03,  1.22052655e-01,\n",
              "         -1.20371111e-01,  2.18585700e-01, -7.07989112e-02,\n",
              "          5.28929867e-02, -2.75562674e-01, -3.35925400e-01,\n",
              "          2.21129134e-01,  2.78645158e-01, -1.77123323e-01,\n",
              "          2.68778622e-01, -7.12628961e-02, -2.93599278e-01,\n",
              "          9.52454656e-02,  9.48532075e-02,  2.09808648e-01],\n",
              "        [-4.40971293e-02,  3.30920160e-01, -9.47225690e-02,\n",
              "          2.22781792e-01,  2.92000085e-01, -1.62707210e-01,\n",
              "          1.33211061e-01, -1.77007362e-01,  2.41231490e-02,\n",
              "          1.37304485e-01, -1.86159775e-01, -1.03237316e-01,\n",
              "         -3.06693558e-02,  2.38204122e-01,  9.01917219e-02,\n",
              "          5.72811104e-02,  9.40866303e-03,  1.83298051e-01,\n",
              "          2.07195461e-01, -1.19742118e-01,  4.12000306e-02,\n",
              "         -6.01192303e-02, -9.35472362e-03, -5.32334410e-02,\n",
              "         -1.04066748e-02,  2.04189271e-01,  8.13226923e-02,\n",
              "         -1.56460673e-01,  3.56370032e-01, -1.49617448e-01],\n",
              "        [-5.90210594e-02, -2.75735527e-01,  4.20514971e-01,\n",
              "         -3.51697683e-01, -1.35327488e-01,  1.76329300e-01,\n",
              "          9.60441083e-02, -8.75193626e-02,  3.64496589e-01,\n",
              "          3.43855143e-01,  2.23187208e-01,  1.93192139e-01,\n",
              "          6.90154955e-02, -1.46398827e-01, -2.36098975e-01,\n",
              "          7.14283735e-02, -1.26064822e-01, -7.58872852e-02,\n",
              "         -1.19363874e-01,  2.29251817e-01,  1.83336020e-01,\n",
              "          1.58325568e-01, -1.20507814e-01, -2.94635892e-01,\n",
              "         -1.56671509e-01,  3.81206900e-01,  6.13428243e-02,\n",
              "         -2.66143054e-01,  5.67984954e-02,  2.57256895e-01],\n",
              "        [ 1.46992609e-01, -4.44420688e-02,  1.77904800e-01,\n",
              "          1.02296121e-01, -1.09227069e-01,  7.14706033e-02,\n",
              "         -8.26765876e-03,  1.85207412e-01, -1.52570918e-01,\n",
              "         -2.57457554e-01,  3.01038250e-02,  4.37607523e-03,\n",
              "         -1.00598440e-01,  1.45234019e-01, -2.85690993e-01,\n",
              "         -9.23098996e-02,  2.93670982e-01,  2.41287127e-01,\n",
              "          2.59491831e-01, -3.57115924e-01, -1.86177015e-01,\n",
              "          3.43288004e-01,  1.45692751e-01,  7.30207264e-02,\n",
              "         -2.10745901e-01, -2.78817534e-01,  1.99266300e-01,\n",
              "          1.05933569e-01,  1.63259611e-01,  4.36020270e-02],\n",
              "        [-7.19327554e-02, -1.13584682e-01, -5.31185158e-02,\n",
              "         -8.31172988e-02, -1.33613929e-01, -5.91735654e-02,\n",
              "         -1.36857703e-01, -1.33324474e-01,  1.06764071e-01,\n",
              "         -2.06877291e-01, -2.35476755e-02, -5.36522157e-02,\n",
              "         -2.99966425e-01, -2.36657500e-01,  3.77474278e-01,\n",
              "          1.39259011e-01,  1.99873857e-02, -1.79260030e-01,\n",
              "          1.27296507e-01, -1.11308210e-01,  1.35877818e-01,\n",
              "          2.30094090e-01, -2.39104200e-02,  2.08317965e-01,\n",
              "         -1.10322662e-01,  2.01159313e-01,  6.25745505e-02,\n",
              "          1.82004739e-02, -9.87877324e-02, -3.15437853e-01],\n",
              "        [-3.64143193e-01, -2.99277678e-02, -2.02606842e-01,\n",
              "          2.04956010e-01, -2.50185281e-01,  6.42473996e-02,\n",
              "          2.72423774e-01,  1.94770899e-02, -2.82308400e-01,\n",
              "         -9.26055983e-02,  1.26584888e-01, -2.52240133e-02,\n",
              "         -1.26094803e-01,  1.86400697e-01,  1.52356267e-01,\n",
              "         -9.26768258e-02,  5.53530715e-02, -9.56329331e-02,\n",
              "         -2.79751003e-01,  5.54427207e-02,  1.68278679e-01,\n",
              "          3.09661865e-01, -1.86945692e-01, -3.21367681e-02,\n",
              "          2.12370649e-01, -6.32116497e-02, -8.08784664e-02,\n",
              "         -4.73858535e-01,  1.22529894e-01,  1.00949086e-01],\n",
              "        [ 2.54103750e-01,  3.16982418e-01,  2.06505105e-01,\n",
              "         -3.67202848e-01,  1.82115212e-02,  2.35746056e-01,\n",
              "          5.14926808e-03, -1.95540637e-01,  3.22591156e-01,\n",
              "         -2.13182732e-01, -2.75965363e-01,  2.76169211e-01,\n",
              "         -9.19227451e-02, -3.58766258e-01, -1.90150112e-01,\n",
              "          3.01717758e-01,  1.61248699e-01, -1.31835178e-01,\n",
              "          2.31136769e-01,  1.20630130e-01, -1.56999588e-01,\n",
              "          3.28181647e-02, -1.63798317e-01,  2.28092402e-01,\n",
              "         -6.17491603e-02,  1.60543516e-01,  2.23104134e-01,\n",
              "          8.45730752e-02, -2.08288729e-01,  6.82432065e-03],\n",
              "        [ 1.14587955e-01,  1.24795429e-01, -1.60326853e-01,\n",
              "          3.22489440e-01,  3.28814238e-01, -2.44750783e-01,\n",
              "         -1.83031529e-01,  7.70711675e-02, -6.21373020e-02,\n",
              "         -3.07968497e-01, -7.39830956e-02, -1.37248769e-01,\n",
              "         -1.45282403e-01, -1.16420381e-01,  2.72463918e-01,\n",
              "          2.94785917e-01, -1.36836469e-01,  1.06182791e-01,\n",
              "         -2.32704610e-01, -1.04425596e-02, -2.94582665e-01,\n",
              "          6.99952096e-02, -4.09974717e-02, -1.05672795e-02,\n",
              "          1.51616454e-01,  2.56316781e-01,  8.57114494e-02,\n",
              "         -3.80106494e-02, -2.17891514e-01, -3.88152421e-01],\n",
              "        [ 3.18075836e-01, -3.46073173e-02,  1.00260235e-01,\n",
              "         -1.24620005e-01,  6.57370239e-02, -1.75346941e-01,\n",
              "         -7.43851438e-02,  3.82247567e-02, -1.55437589e-01,\n",
              "         -7.27952123e-02,  1.10979512e-01,  3.76517057e-01,\n",
              "         -1.37384042e-01,  6.75958842e-02,  2.06208676e-01,\n",
              "          3.98219824e-01,  2.88328137e-02, -1.15354225e-01,\n",
              "          3.49225197e-03, -3.03096771e-01, -2.18370080e-01,\n",
              "         -3.92948598e-01,  1.03404187e-01,  1.48484454e-01,\n",
              "          2.21278355e-03,  3.03851902e-01,  2.25723550e-01,\n",
              "          8.30088332e-02,  2.90758386e-02, -1.12443842e-01],\n",
              "        [ 1.45647079e-01, -1.69775680e-01,  2.53996775e-02,\n",
              "          1.58504680e-01,  2.80417919e-01, -5.30109368e-02,\n",
              "          1.11217208e-01,  3.05198461e-01, -2.95865685e-01,\n",
              "          1.18191540e-01,  2.49589249e-01, -2.16563240e-01,\n",
              "         -5.57814762e-02,  5.54820523e-03, -4.42381017e-03,\n",
              "          8.00020173e-02, -1.86727196e-02, -8.87116790e-02,\n",
              "          2.46320039e-01, -2.96738684e-01, -3.81151587e-01,\n",
              "         -5.71594480e-03, -3.86579841e-01, -2.81848490e-01,\n",
              "          1.06577910e-01, -2.18555689e-01,  8.33136067e-02,\n",
              "         -1.13933116e-01, -1.02910258e-01, -2.51223028e-01],\n",
              "        [-4.21636105e-01,  1.71523869e-01,  2.75123298e-01,\n",
              "          2.33515501e-01,  1.01597592e-01,  6.01253584e-02,\n",
              "          1.58527613e-01,  3.81846309e-01,  2.15096027e-01,\n",
              "         -2.57222623e-01,  1.57830179e-01,  1.70602337e-01,\n",
              "          5.44753969e-02,  1.15202382e-01,  8.80281478e-02,\n",
              "         -6.20023012e-02,  3.88658017e-01,  9.30051357e-02,\n",
              "         -2.05558717e-01, -1.72191992e-01, -1.40579790e-02,\n",
              "          1.44104324e-02, -1.14640012e-01, -3.61911923e-01,\n",
              "          2.73308188e-01,  9.95828062e-02, -1.45875546e-03,\n",
              "         -1.32777736e-01,  8.05531908e-03, -1.86053395e-01],\n",
              "        [ 3.81766915e-01, -7.00990409e-02,  1.22845890e-02,\n",
              "         -1.80707291e-01,  2.47332364e-01,  3.13814938e-01,\n",
              "          5.78181185e-02, -3.47289115e-01, -9.71288010e-02,\n",
              "         -9.77993235e-02,  3.18866670e-01,  3.42550099e-01,\n",
              "         -1.21866301e-01, -3.62414837e-01,  1.42931402e-01,\n",
              "         -7.34282658e-02, -8.40931106e-03, -2.20863432e-01,\n",
              "         -3.07605773e-01,  5.40616512e-02,  2.13576451e-01,\n",
              "          6.71469644e-02, -1.42849162e-01, -2.29217365e-01,\n",
              "          1.10909529e-01, -2.62988359e-01,  4.42357026e-02,\n",
              "         -1.85118020e-01,  2.93345869e-01,  3.23351771e-01],\n",
              "        [-2.32692182e-01, -1.23295382e-01,  1.63966298e-01,\n",
              "          3.22877616e-01, -6.00979209e-01,  1.28526777e-01,\n",
              "          5.80461584e-02, -2.01474637e-01,  4.61930484e-01,\n",
              "         -4.25313003e-02, -2.31093317e-01,  1.99948162e-01,\n",
              "          1.06583551e-01,  2.84346193e-01,  3.98903161e-01,\n",
              "         -3.27892363e-01,  3.97115499e-01,  7.92782754e-02,\n",
              "          2.22091258e-01, -2.08370700e-01, -3.22770059e-01,\n",
              "          2.70282269e-01,  5.91230392e-02,  7.88335949e-02,\n",
              "          3.00658584e-01,  2.78108776e-01,  1.41815580e-02,\n",
              "          1.92853138e-01, -1.51329041e-01,  2.21714735e-01],\n",
              "        [-2.50290155e-01, -2.78775901e-01,  1.36514753e-01,\n",
              "         -2.97463655e-01,  3.19769859e-01, -2.30313182e-01,\n",
              "          3.84281166e-02,  2.86546260e-01,  1.90772265e-01,\n",
              "          3.78935874e-01, -3.05005491e-01, -1.31643593e-01,\n",
              "         -3.33025187e-01,  3.42009842e-01, -2.32636049e-01,\n",
              "          2.91809857e-01, -1.59482151e-01, -7.96621107e-03,\n",
              "         -1.38442382e-01, -2.78885782e-01, -3.00302953e-02,\n",
              "         -1.99869052e-01,  3.68670434e-01, -1.64466664e-01,\n",
              "         -6.28021881e-02,  2.34400511e-01, -2.02492699e-01,\n",
              "         -3.35828871e-01, -1.19300723e-01,  1.24903344e-01],\n",
              "        [-3.50651443e-01,  2.38572568e-01,  4.41185623e-01,\n",
              "         -1.47231236e-01, -9.60609391e-02, -2.51009315e-01,\n",
              "          1.76412672e-01,  2.05602427e-03,  2.00205252e-01,\n",
              "          3.75831276e-01, -1.76239014e-01, -1.51348472e-01,\n",
              "         -2.81859845e-01,  4.77521211e-01, -1.37686923e-01,\n",
              "         -6.99566752e-02,  2.24122047e-01,  3.26664418e-01,\n",
              "          3.88252795e-01, -1.16668232e-01, -1.49888366e-01,\n",
              "         -1.69774234e-01,  8.56503993e-02,  2.04116940e-01,\n",
              "          3.38276297e-01,  8.13303217e-02, -2.04487815e-01,\n",
              "         -2.06350759e-01, -3.49713147e-01,  1.82858080e-01],\n",
              "        [ 2.01329514e-01, -6.32416233e-02,  1.79942146e-01,\n",
              "          1.86052099e-01,  1.14585966e-01, -1.13317281e-01,\n",
              "         -6.09925948e-02,  2.10335791e-01, -1.03626482e-01,\n",
              "         -4.57403034e-01, -1.23950750e-01, -2.43982852e-01,\n",
              "         -5.01920097e-03, -2.66695470e-01,  1.55333132e-01,\n",
              "         -3.16711605e-01, -1.65387645e-01, -7.62856752e-02,\n",
              "          3.27945769e-01,  1.72792431e-02, -3.12561363e-01,\n",
              "         -3.11622411e-01, -2.41071820e-01,  1.94760025e-01,\n",
              "         -3.22656810e-01,  2.49701619e-01, -2.88666040e-01,\n",
              "          3.85255627e-02, -2.51676850e-02,  1.50250778e-01],\n",
              "        [ 2.66659349e-01,  5.55606671e-02,  1.17333978e-02,\n",
              "          4.35869694e-02, -1.38021439e-01,  3.86420459e-01,\n",
              "          7.62879252e-02,  3.20921093e-02, -1.09624542e-01,\n",
              "          2.15929046e-01,  2.64664024e-01, -7.40815625e-02,\n",
              "         -2.41884410e-01, -1.29330784e-01, -1.33535072e-01,\n",
              "          2.50848323e-01,  1.89228192e-01, -3.64449918e-01,\n",
              "         -1.70969963e-01,  2.70409107e-01, -1.55131742e-01,\n",
              "          1.02696940e-01, -1.66900694e-01, -1.34522811e-01,\n",
              "         -5.84482364e-02, -3.41696978e-01, -3.17770213e-01,\n",
              "          1.50197670e-01,  3.72451872e-01,  3.04891527e-01],\n",
              "        [-1.28763527e-01,  3.06388736e-01, -2.03756839e-02,\n",
              "         -1.14116520e-01,  2.18130514e-01,  1.73031583e-01,\n",
              "          4.08776134e-01,  1.36722848e-01, -1.60400018e-01,\n",
              "         -2.98914276e-02,  1.24206670e-01,  3.45867798e-02,\n",
              "         -1.21445604e-01, -1.60691559e-01,  2.67819501e-02,\n",
              "          1.71090085e-02,  7.77761489e-02,  3.47537190e-01,\n",
              "         -9.97809544e-02, -4.34063263e-02, -1.40110746e-01,\n",
              "         -2.47666404e-01, -9.82987285e-02,  2.35670254e-01,\n",
              "          1.43221632e-01,  1.56102955e-01,  1.39975011e-01,\n",
              "          3.67799662e-02,  2.37739563e-01, -2.75462210e-01]], dtype=float32)>,\n",
              " <tf.Variable 'dense/bias:0' shape=(30,) dtype=float32, numpy=\n",
              " array([ 0.05545026,  0.03057379,  0.11122461, -0.04680658,  0.02048567,\n",
              "         0.0047005 ,  0.09196246,  0.04689395,  0.12694184,  0.035314  ,\n",
              "         0.01139597,  0.02791739, -0.06304827,  0.10296436,  0.08047168,\n",
              "         0.00933991,  0.00113693, -0.00073671,  0.06560072, -0.02629864,\n",
              "        -0.07223703, -0.05765255, -0.01549922, -0.02958164,  0.05877246,\n",
              "         0.1306789 , -0.00326014,  0.07944887,  0.00410755, -0.0298109 ],\n",
              "       dtype=float32)>,\n",
              " <tf.Variable 'dense_1/kernel:0' shape=(30, 10) dtype=float32, numpy=\n",
              " array([[ 0.2942709 ,  0.09843384, -0.19998895,  0.4423979 , -0.19218941,\n",
              "         -0.12415481, -0.06096803, -0.37618867,  0.21758199,  0.12959243],\n",
              "        [ 0.02033403,  0.03364555, -0.30834606,  0.27898487,  0.11643109,\n",
              "          0.01059129, -0.06961183, -0.0949377 ,  0.2742965 , -0.34796965],\n",
              "        [ 0.10392055,  0.3421366 ,  0.29449633, -0.25837526, -0.00958317,\n",
              "          0.43096548,  0.39114767,  0.26541674, -0.34319112, -0.11240347],\n",
              "        [ 0.22361736,  0.03245216,  0.17574754,  0.01700659,  0.01650753,\n",
              "          0.08132627,  0.08025792,  0.10969108, -0.05024526,  0.09551139],\n",
              "        [ 0.34200475, -0.13397315,  0.18687092, -0.03666492, -0.4214258 ,\n",
              "         -0.40543583, -0.03284726, -0.3333016 ,  0.18341447, -0.37702715],\n",
              "        [ 0.25890082, -0.12387089,  0.10034076,  0.00886311,  0.36953565,\n",
              "          0.03777986,  0.24129002, -0.04426177, -0.1705917 , -0.22117382],\n",
              "        [-0.03643841,  0.0807918 ,  0.4027901 ,  0.2656249 ,  0.10494004,\n",
              "          0.21682379, -0.17735949,  0.34211677, -0.17046645,  0.2037769 ],\n",
              "        [-0.407156  ,  0.29955864,  0.4121863 , -0.2838864 ,  0.15402468,\n",
              "          0.06682105,  0.13584203,  0.35103446,  0.13945305, -0.25573552],\n",
              "        [ 0.2952647 ,  0.3511091 ,  0.2228007 ,  0.10843506,  0.41431198,\n",
              "          0.35112542,  0.27484667,  0.13382302,  0.28597468,  0.39006555],\n",
              "        [ 0.2280007 ,  0.38540238,  0.07819661, -0.0234058 ,  0.35402334,\n",
              "          0.07836932,  0.30963114,  0.14456034, -0.0371645 ,  0.20080228],\n",
              "        [ 0.3959135 , -0.28180304,  0.34751242, -0.02428291,  0.18325952,\n",
              "         -0.04222265, -0.15834281,  0.21263875, -0.4214626 ,  0.074752  ],\n",
              "        [ 0.4237913 , -0.15959229, -0.18147582, -0.05073962, -0.24038783,\n",
              "         -0.37985146,  0.4120474 ,  0.28764784, -0.09160169, -0.1276725 ],\n",
              "        [ 0.23328127,  0.05159605, -0.20990229,  0.0103828 , -0.20095375,\n",
              "          0.28732267, -0.03739875, -0.060314  ,  0.11504494, -0.21258952],\n",
              "        [-0.05449741,  0.34273797,  0.35502866, -0.2849903 ,  0.15773195,\n",
              "          0.48606926,  0.40880492, -0.20461378, -0.2794592 , -0.13006715],\n",
              "        [-0.14848576,  0.3387081 ,  0.11143203,  0.36346674, -0.02143656,\n",
              "         -0.09430769, -0.04765108,  0.12686476,  0.07495771,  0.08677645],\n",
              "        [ 0.30307057, -0.38132378, -0.04849706, -0.12130079,  0.34563008,\n",
              "          0.04324591, -0.18928438,  0.08344078, -0.27024734, -0.06418032],\n",
              "        [ 0.16837718,  0.3874008 ,  0.25368625, -0.29953274, -0.23754553,\n",
              "          0.3443218 , -0.12313454,  0.31803304,  0.16224664, -0.12828472],\n",
              "        [ 0.11202332,  0.06919698,  0.11403011,  0.26131803,  0.3686723 ,\n",
              "         -0.3028754 ,  0.06974061, -0.08039588, -0.14878829,  0.32377136],\n",
              "        [ 0.17914297,  0.22349827,  0.37573758,  0.02896734,  0.02070209,\n",
              "          0.04814981,  0.18552832,  0.38106576, -0.35152265,  0.3962939 ],\n",
              "        [ 0.12831762,  0.14487626, -0.24012053,  0.31859574, -0.3301103 ,\n",
              "         -0.26857793, -0.16969034,  0.0882741 ,  0.01778922, -0.03398817],\n",
              "        [ 0.14748277, -0.109496  , -0.09932565, -0.10789044, -0.14650807,\n",
              "         -0.01810121, -0.21509285, -0.10913815,  0.12563732, -0.23048583],\n",
              "        [ 0.13978101,  0.06632311,  0.39567226, -0.3059474 ,  0.02370748,\n",
              "         -0.17201625, -0.05241556,  0.3437307 , -0.05653681, -0.39922732],\n",
              "        [-0.20719816,  0.34036896,  0.15868472,  0.01498889, -0.04186664,\n",
              "          0.3181732 , -0.02959231,  0.03197997, -0.28638062,  0.15843786],\n",
              "        [-0.05811837,  0.25122204, -0.0103593 ,  0.17375767,  0.18881798,\n",
              "         -0.05448569,  0.00966779, -0.20142633, -0.35348234,  0.07836141],\n",
              "        [-0.29745913, -0.23253632,  0.466873  ,  0.31224263,  0.10201968,\n",
              "         -0.03337844, -0.03531054,  0.3082732 , -0.13221289, -0.11836679],\n",
              "        [ 0.13862225,  0.0332141 ,  0.01257576, -0.17964421,  0.3661388 ,\n",
              "          0.45285484,  0.11652475, -0.01989956, -0.26086757,  0.4334188 ],\n",
              "        [ 0.36289233,  0.13915017, -0.00602764,  0.15257922, -0.12785377,\n",
              "          0.37697548, -0.27484417,  0.05552299,  0.11867127, -0.02521451],\n",
              "        [ 0.4336693 , -0.44485477, -0.30320096,  0.49782193, -0.21471004,\n",
              "          0.02178897, -0.36225533,  0.2732042 , -0.2345375 ,  0.22102983],\n",
              "        [ 0.04622701,  0.20065205, -0.15777284,  0.12063795, -0.26097745,\n",
              "          0.21336208, -0.28943172, -0.32224748,  0.03421919, -0.00278511],\n",
              "        [ 0.04486502, -0.25853854, -0.0270459 ,  0.04770696, -0.04642099,\n",
              "         -0.25909424,  0.12467893,  0.23211005, -0.2278927 ,  0.25174046]],\n",
              "       dtype=float32)>,\n",
              " <tf.Variable 'dense_1/bias:0' shape=(10,) dtype=float32, numpy=\n",
              " array([-0.01940521,  0.06526444,  0.02532134,  0.04217755,  0.07925355,\n",
              "         0.06751383,  0.07933126,  0.03374104, -0.05680438,  0.04148464],\n",
              "       dtype=float32)>,\n",
              " <tf.Variable 'dense_2/kernel:0' shape=(10, 1) dtype=float32, numpy=\n",
              " array([[ 0.63333905],\n",
              "        [-0.16922659],\n",
              "        [-0.3752998 ],\n",
              "        [ 0.6017318 ],\n",
              "        [-0.43067062],\n",
              "        [-0.31797963],\n",
              "        [-0.37900054],\n",
              "        [-0.36275494],\n",
              "        [-0.50538117],\n",
              "        [-0.5352454 ]], dtype=float32)>,\n",
              " <tf.Variable 'dense_2/bias:0' shape=(1,) dtype=float32, numpy=array([-0.02696068], dtype=float32)>]"
            ]
          },
          "metadata": {},
          "execution_count": 53
        }
      ]
    },
    {
      "cell_type": "code",
      "source": [
        "import numpy as np\n",
        "y_pred = np.where(model.predict(X_test)>0.5,1,0).reshape(-1)"
      ],
      "metadata": {
        "execution": {
          "iopub.status.busy": "2024-07-20T10:57:36.896690Z",
          "iopub.execute_input": "2024-07-20T10:57:36.897206Z",
          "iopub.status.idle": "2024-07-20T10:57:37.065618Z",
          "shell.execute_reply.started": "2024-07-20T10:57:36.897168Z",
          "shell.execute_reply": "2024-07-20T10:57:37.064345Z"
        },
        "trusted": true,
        "colab": {
          "base_uri": "https://localhost:8080/"
        },
        "id": "JAc2jhUgL0wQ",
        "outputId": "1cf0b816-590e-4e90-cf08-4198676b74c3"
      },
      "execution_count": 54,
      "outputs": [
        {
          "output_type": "stream",
          "name": "stdout",
          "text": [
            "44/44 [==============================] - 0s 3ms/step\n"
          ]
        }
      ]
    },
    {
      "cell_type": "code",
      "source": [
        "from sklearn.metrics import accuracy_score\n",
        "accuracy_score(y_test,y_pred)"
      ],
      "metadata": {
        "execution": {
          "iopub.status.busy": "2024-07-20T10:59:56.471505Z",
          "iopub.execute_input": "2024-07-20T10:59:56.471931Z",
          "iopub.status.idle": "2024-07-20T10:59:56.482660Z",
          "shell.execute_reply.started": "2024-07-20T10:59:56.471897Z",
          "shell.execute_reply": "2024-07-20T10:59:56.481339Z"
        },
        "trusted": true,
        "colab": {
          "base_uri": "https://localhost:8080/"
        },
        "id": "VWxavQ1iL0wR",
        "outputId": "54bf6467-93c1-486a-98cc-a3126537e923"
      },
      "execution_count": 56,
      "outputs": [
        {
          "output_type": "execute_result",
          "data": {
            "text/plain": [
              "0.8059701492537313"
            ]
          },
          "metadata": {},
          "execution_count": 56
        }
      ]
    },
    {
      "cell_type": "code",
      "source": [
        "from sklearn.metrics import accuracy_score, classification_report\n",
        "print(classification_report(y_test,y_pred)) #since the dist of data along class 0 and 1 is not normal ( some errs occurs...!)"
      ],
      "metadata": {
        "execution": {
          "iopub.status.busy": "2024-07-20T11:01:26.436954Z",
          "iopub.execute_input": "2024-07-20T11:01:26.437385Z",
          "iopub.status.idle": "2024-07-20T11:01:26.459947Z",
          "shell.execute_reply.started": "2024-07-20T11:01:26.437352Z",
          "shell.execute_reply": "2024-07-20T11:01:26.458818Z"
        },
        "trusted": true,
        "colab": {
          "base_uri": "https://localhost:8080/"
        },
        "id": "bYvo1fTTL0wS",
        "outputId": "1f78e368-aa1d-4e76-b08c-1dc1daa67d24"
      },
      "execution_count": 59,
      "outputs": [
        {
          "output_type": "stream",
          "name": "stdout",
          "text": [
            "              precision    recall  f1-score   support\n",
            "\n",
            "           0       0.84      0.91      0.87      1018\n",
            "           1       0.69      0.54      0.61       389\n",
            "\n",
            "    accuracy                           0.81      1407\n",
            "   macro avg       0.76      0.73      0.74      1407\n",
            "weighted avg       0.80      0.81      0.80      1407\n",
            "\n"
          ]
        }
      ]
    },
    {
      "cell_type": "code",
      "source": [
        "from sklearn.metrics import accuracy_score, classification_report,confusion_matrix\n",
        "sns.heatmap(confusion_matrix(y_test,y_pred),annot=True,fmt='g',cmap='Blues')"
      ],
      "metadata": {
        "execution": {
          "iopub.status.busy": "2024-07-20T11:02:48.487612Z",
          "iopub.execute_input": "2024-07-20T11:02:48.488064Z",
          "iopub.status.idle": "2024-07-20T11:02:48.822571Z",
          "shell.execute_reply.started": "2024-07-20T11:02:48.487997Z",
          "shell.execute_reply": "2024-07-20T11:02:48.821437Z"
        },
        "trusted": true,
        "colab": {
          "base_uri": "https://localhost:8080/",
          "height": 448
        },
        "id": "weUwKPrKL0wS",
        "outputId": "2e1683ba-a99b-43a1-cf9e-2c4662fb45d6"
      },
      "execution_count": 60,
      "outputs": [
        {
          "output_type": "execute_result",
          "data": {
            "text/plain": [
              "<Axes: >"
            ]
          },
          "metadata": {},
          "execution_count": 60
        },
        {
          "output_type": "display_data",
          "data": {
            "text/plain": [
              "<Figure size 640x480 with 2 Axes>"
            ],
            "image/png": "[encoded data removed]"
          },
          "metadata": {}
        }
      ]
    }
  ]
}